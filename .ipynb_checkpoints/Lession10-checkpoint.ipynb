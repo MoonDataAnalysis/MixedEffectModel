{
 "cells": [
  {
   "attachments": {
    "image.png": {
     "image/png": "[encoded data removed]"
    }
   },
   "cell_type": "markdown",
   "id": "0a565c70",
   "metadata": {},
   "source": [
    "### 3 组数据结构\n",
    "\n",
    "- 公式\n",
    "- response 响应变量\n",
    "- primary covariate 主协变量\n",
    "![image.png](attachment:image.png)"
   ]
  },
  {
   "cell_type": "code",
   "execution_count": 1,
   "id": "6814554f",
   "metadata": {},
   "outputs": [],
   "source": [
    "library(nlme)"
   ]
  },
  {
   "cell_type": "code",
   "execution_count": 3,
   "id": "172ded97",
   "metadata": {},
   "outputs": [
    {
     "data": {
      "text/html": [
       "<table class=\"dataframe\">\n",
       "<caption>A nffGroupedData: 6 × 2</caption>\n",
       "<thead>\n",
       "\t<tr><th></th><th scope=col>Rail</th><th scope=col>travel</th></tr>\n",
       "\t<tr><th></th><th scope=col>&lt;ord&gt;</th><th scope=col>&lt;dbl&gt;</th></tr>\n",
       "</thead>\n",
       "<tbody>\n",
       "\t<tr><th scope=row>1</th><td>1</td><td>55</td></tr>\n",
       "\t<tr><th scope=row>2</th><td>1</td><td>53</td></tr>\n",
       "\t<tr><th scope=row>3</th><td>1</td><td>54</td></tr>\n",
       "\t<tr><th scope=row>4</th><td>2</td><td>26</td></tr>\n",
       "\t<tr><th scope=row>5</th><td>2</td><td>37</td></tr>\n",
       "\t<tr><th scope=row>6</th><td>2</td><td>32</td></tr>\n",
       "</tbody>\n",
       "</table>\n"
      ],
      "text/latex": [
       "A nffGroupedData: 6 × 2\n",
       "\\begin{tabular}{r|ll}\n",
       "  & Rail & travel\\\\\n",
       "  & <ord> & <dbl>\\\\\n",
       "\\hline\n",
       "\t1 & 1 & 55\\\\\n",
       "\t2 & 1 & 53\\\\\n",
       "\t3 & 1 & 54\\\\\n",
       "\t4 & 2 & 26\\\\\n",
       "\t5 & 2 & 37\\\\\n",
       "\t6 & 2 & 32\\\\\n",
       "\\end{tabular}\n"
      ],
      "text/markdown": [
       "\n",
       "A nffGroupedData: 6 × 2\n",
       "\n",
       "| <!--/--> | Rail &lt;ord&gt; | travel &lt;dbl&gt; |\n",
       "|---|---|---|\n",
       "| 1 | 1 | 55 |\n",
       "| 2 | 1 | 53 |\n",
       "| 3 | 1 | 54 |\n",
       "| 4 | 2 | 26 |\n",
       "| 5 | 2 | 37 |\n",
       "| 6 | 2 | 32 |\n",
       "\n"
      ],
      "text/plain": [
       "  Rail travel\n",
       "1 1    55    \n",
       "2 1    53    \n",
       "3 1    54    \n",
       "4 2    26    \n",
       "5 2    37    \n",
       "6 2    32    "
      ]
     },
     "metadata": {},
     "output_type": "display_data"
    }
   ],
   "source": [
    "head(Rail)"
   ]
  },
  {
   "cell_type": "code",
   "execution_count": 2,
   "id": "f462c14d",
   "metadata": {},
   "outputs": [
    {
     "data": {
      "text/plain": [
       "travel ~ 1 | Rail"
      ]
     },
     "metadata": {},
     "output_type": "display_data"
    }
   ],
   "source": [
    "formula(Rail)"
   ]
  },
  {
   "cell_type": "code",
   "execution_count": 18,
   "id": "0a5facb0",
   "metadata": {},
   "outputs": [
    {
     "data": {
      "text/html": [
       "<table class=\"dataframe\">\n",
       "<caption>A nffGroupedData: 6 × 3</caption>\n",
       "<thead>\n",
       "\t<tr><th></th><th scope=col>effort</th><th scope=col>Type</th><th scope=col>Subject</th></tr>\n",
       "\t<tr><th></th><th scope=col>&lt;dbl&gt;</th><th scope=col>&lt;fct&gt;</th><th scope=col>&lt;ord&gt;</th></tr>\n",
       "</thead>\n",
       "<tbody>\n",
       "\t<tr><th scope=row>1</th><td>12</td><td>T1</td><td>1</td></tr>\n",
       "\t<tr><th scope=row>2</th><td>15</td><td>T2</td><td>1</td></tr>\n",
       "\t<tr><th scope=row>3</th><td>12</td><td>T3</td><td>1</td></tr>\n",
       "\t<tr><th scope=row>4</th><td>10</td><td>T4</td><td>1</td></tr>\n",
       "\t<tr><th scope=row>5</th><td>10</td><td>T1</td><td>2</td></tr>\n",
       "\t<tr><th scope=row>6</th><td>14</td><td>T2</td><td>2</td></tr>\n",
       "</tbody>\n",
       "</table>\n"
      ],
      "text/latex": [
       "A nffGroupedData: 6 × 3\n",
       "\\begin{tabular}{r|lll}\n",
       "  & effort & Type & Subject\\\\\n",
       "  & <dbl> & <fct> & <ord>\\\\\n",
       "\\hline\n",
       "\t1 & 12 & T1 & 1\\\\\n",
       "\t2 & 15 & T2 & 1\\\\\n",
       "\t3 & 12 & T3 & 1\\\\\n",
       "\t4 & 10 & T4 & 1\\\\\n",
       "\t5 & 10 & T1 & 2\\\\\n",
       "\t6 & 14 & T2 & 2\\\\\n",
       "\\end{tabular}\n"
      ],
      "text/markdown": [
       "\n",
       "A nffGroupedData: 6 × 3\n",
       "\n",
       "| <!--/--> | effort &lt;dbl&gt; | Type &lt;fct&gt; | Subject &lt;ord&gt; |\n",
       "|---|---|---|---|\n",
       "| 1 | 12 | T1 | 1 |\n",
       "| 2 | 15 | T2 | 1 |\n",
       "| 3 | 12 | T3 | 1 |\n",
       "| 4 | 10 | T4 | 1 |\n",
       "| 5 | 10 | T1 | 2 |\n",
       "| 6 | 14 | T2 | 2 |\n",
       "\n"
      ],
      "text/plain": [
       "  effort Type Subject\n",
       "1 12     T1   1      \n",
       "2 15     T2   1      \n",
       "3 12     T3   1      \n",
       "4 10     T4   1      \n",
       "5 10     T1   2      \n",
       "6 14     T2   2      "
      ]
     },
     "metadata": {},
     "output_type": "display_data"
    }
   ],
   "source": [
    "head(ergoStool)"
   ]
  },
  {
   "cell_type": "code",
   "execution_count": 19,
   "id": "c6ac92ea",
   "metadata": {},
   "outputs": [
    {
     "data": {
      "text/plain": [
       "pixel ~ day | Dog/Side"
      ]
     },
     "metadata": {},
     "output_type": "display_data"
    }
   ],
   "source": [
    "formula(Pixel)"
   ]
  },
  {
   "cell_type": "markdown",
   "id": "c35bd56d",
   "metadata": {},
   "source": [
    "#### 提取操作与判断是否平衡\n",
    "-数据集：\n",
    "\n",
    "牛津男孩不同年龄段身高信息数据"
   ]
  },
  {
   "cell_type": "code",
   "execution_count": 29,
   "id": "689b0e25",
   "metadata": {},
   "outputs": [
    {
     "data": {
      "text/plain": [
       "height ~ age | Subject"
      ]
     },
     "metadata": {},
     "output_type": "display_data"
    }
   ],
   "source": [
    "formula(Oxboys)"
   ]
  },
  {
   "cell_type": "code",
   "execution_count": 22,
   "id": "402f3842",
   "metadata": {},
   "outputs": [
    {
     "data": {
      "text/html": [
       "<table class=\"dataframe\">\n",
       "<caption>A nfnGroupedData: 6 × 4</caption>\n",
       "<thead>\n",
       "\t<tr><th></th><th scope=col>Subject</th><th scope=col>age</th><th scope=col>height</th><th scope=col>Occasion</th></tr>\n",
       "\t<tr><th></th><th scope=col>&lt;ord&gt;</th><th scope=col>&lt;dbl&gt;</th><th scope=col>&lt;dbl&gt;</th><th scope=col>&lt;ord&gt;</th></tr>\n",
       "</thead>\n",
       "<tbody>\n",
       "\t<tr><th scope=row>1</th><td>1</td><td>-1.0000</td><td>140.5</td><td>1</td></tr>\n",
       "\t<tr><th scope=row>2</th><td>1</td><td>-0.7479</td><td>143.4</td><td>2</td></tr>\n",
       "\t<tr><th scope=row>3</th><td>1</td><td>-0.4630</td><td>144.8</td><td>3</td></tr>\n",
       "\t<tr><th scope=row>4</th><td>1</td><td>-0.1643</td><td>147.1</td><td>4</td></tr>\n",
       "\t<tr><th scope=row>5</th><td>1</td><td>-0.0027</td><td>147.7</td><td>5</td></tr>\n",
       "\t<tr><th scope=row>6</th><td>1</td><td> 0.2466</td><td>150.2</td><td>6</td></tr>\n",
       "</tbody>\n",
       "</table>\n"
      ],
      "text/latex": [
       "A nfnGroupedData: 6 × 4\n",
       "\\begin{tabular}{r|llll}\n",
       "  & Subject & age & height & Occasion\\\\\n",
       "  & <ord> & <dbl> & <dbl> & <ord>\\\\\n",
       "\\hline\n",
       "\t1 & 1 & -1.0000 & 140.5 & 1\\\\\n",
       "\t2 & 1 & -0.7479 & 143.4 & 2\\\\\n",
       "\t3 & 1 & -0.4630 & 144.8 & 3\\\\\n",
       "\t4 & 1 & -0.1643 & 147.1 & 4\\\\\n",
       "\t5 & 1 & -0.0027 & 147.7 & 5\\\\\n",
       "\t6 & 1 &  0.2466 & 150.2 & 6\\\\\n",
       "\\end{tabular}\n"
      ],
      "text/markdown": [
       "\n",
       "A nfnGroupedData: 6 × 4\n",
       "\n",
       "| <!--/--> | Subject &lt;ord&gt; | age &lt;dbl&gt; | height &lt;dbl&gt; | Occasion &lt;ord&gt; |\n",
       "|---|---|---|---|---|\n",
       "| 1 | 1 | -1.0000 | 140.5 | 1 |\n",
       "| 2 | 1 | -0.7479 | 143.4 | 2 |\n",
       "| 3 | 1 | -0.4630 | 144.8 | 3 |\n",
       "| 4 | 1 | -0.1643 | 147.1 | 4 |\n",
       "| 5 | 1 | -0.0027 | 147.7 | 5 |\n",
       "| 6 | 1 |  0.2466 | 150.2 | 6 |\n",
       "\n"
      ],
      "text/plain": [
       "  Subject age     height Occasion\n",
       "1 1       -1.0000 140.5  1       \n",
       "2 1       -0.7479 143.4  2       \n",
       "3 1       -0.4630 144.8  3       \n",
       "4 1       -0.1643 147.1  4       \n",
       "5 1       -0.0027 147.7  5       \n",
       "6 1        0.2466 150.2  6       "
      ]
     },
     "metadata": {},
     "output_type": "display_data"
    }
   ],
   "source": [
    "head(Oxboys)"
   ]
  },
  {
   "cell_type": "code",
   "execution_count": 33,
   "id": "5787e120",
   "metadata": {},
   "outputs": [
    {
     "data": {
      "text/plain": [
       "\n",
       "10 26 25  9  2  6  7 17 16 15  8 20  1 18  5 23 11 21  3 24 22 12 13 14 19  4 \n",
       " 9  9  9  9  9  9  9  9  9  9  9  9  9  9  9  9  9  9  9  9  9  9  9  9  9  9 "
      ]
     },
     "metadata": {},
     "output_type": "display_data"
    }
   ],
   "source": [
    "table(getGroups(Oxboys))"
   ]
  },
  {
   "cell_type": "markdown",
   "id": "784fc0a7",
   "metadata": {},
   "source": [
    "- 因为每个受试者恰好有九个观测值，所以就观测值的数量而言，这些数据是平衡的。然而，如果我们也检查协变量值的平衡性，就会发现它们是不平衡的"
   ]
  },
  {
   "cell_type": "code",
   "execution_count": 37,
   "id": "509b3420",
   "metadata": {},
   "outputs": [
    {
     "data": {
      "text/html": [
       "<style>\n",
       ".list-inline {list-style: none; margin:0; padding: 0}\n",
       ".list-inline>li {display: inline-block}\n",
       ".list-inline>li:not(:last-child)::after {content: \"\\00b7\"; padding: 0 .5ex}\n",
       "</style>\n",
       "<ol class=list-inline><li>-1</li><li>-0.7479</li><li>-0.463</li><li>-0.1643</li><li>-0.0027</li><li>0.2466</li><li>0.5562</li><li>0.7781</li><li>0.9945</li><li>-1</li><li>-0.7479</li><li>-0.463</li><li>-0.1643</li><li>-0.0027</li><li>0.2466</li><li>0.5562</li><li>0.7781</li><li>0.9945</li><li>-1</li><li>-0.7479</li><li>-0.463</li><li>-0.1643</li><li>-0.0027</li><li>0.2466</li><li>0.5562</li><li>0.7781</li><li>0.9945</li><li>-1</li><li>-0.7479</li><li>-0.463</li><li>-0.1643</li><li>-0.0027</li><li>0.2466</li><li>0.5562</li><li>0.7781</li><li>0.9945</li><li>-1</li><li>-0.7479</li><li>-0.4493</li><li>-0.1643</li><li>-0.0027</li><li>0.2466</li><li>0.5562</li><li>0.7781</li><li>0.9973</li><li>-1</li><li>-0.7479</li><li>-0.463</li><li>-0.1643</li><li>-0.0027</li><li>0.2466</li><li>0.5562</li><li>0.7781</li><li>0.9945</li><li>-1</li><li>-0.7479</li><li>-0.4493</li><li>-0.1643</li><li>0</li><li>0.2466</li><li>0.5562</li><li>0.7945</li><li>0.9945</li><li>-1</li><li>-0.7479</li><li>-0.463</li><li>-0.1643</li><li>-0.0027</li><li>0.2466</li><li>0.5562</li><li>0.7945</li><li>1.0055</li><li>-1</li><li>-0.7479</li><li>-0.4493</li><li>-0.1643</li><li>-0.0027</li><li>0.2466</li><li>0.5562</li><li>0.7945</li><li>0.9945</li><li>-1</li><li>-0.7479</li><li>-0.463</li><li>-0.1643</li><li>-0.0027</li><li>0.2466</li><li>0.5562</li><li>0.7781</li><li>0.9945</li><li>-1</li><li>-0.7479</li><li>-0.463</li><li>-0.1643</li><li>-0.0027</li><li>0.2466</li><li>0.5562</li><li>0.7781</li><li>0.9945</li><li>-1</li><li>-0.7479</li><li>-0.463</li><li>-0.1643</li><li>0</li><li>0.2466</li><li>0.5562</li><li>0.7781</li><li>0.9945</li><li>-1</li><li>-0.715</li><li>-0.463</li><li>-0.1643</li><li>-0.0027</li><li>0.2466</li><li>0.5562</li><li>0.7781</li><li>0.9945</li><li>-1</li><li>-0.7479</li><li>-0.463</li><li>-0.1643</li><li>0</li><li>0.2466</li><li>0.5562</li><li>0.7781</li><li>0.9945</li><li>-1</li><li>-0.7479</li><li>-0.463</li><li>-0.1643</li><li>-0.0027</li><li>0.2466</li><li>0.5562</li><li>0.7781</li><li>0.9945</li><li>-1</li><li>-0.7479</li><li>-0.463</li><li>-0.1643</li><li>-0.0027</li><li>0.2466</li><li>0.5562</li><li>0.7781</li><li>0.9945</li><li>-1</li><li>-0.7479</li><li>-0.463</li><li>-0.1643</li><li>-0.0027</li><li>0.2466</li><li>0.5562</li><li>0.7781</li><li>0.9945</li><li>-1</li><li>-0.7479</li><li>-0.463</li><li>-0.1643</li><li>-0.0027</li><li>0.2466</li><li>0.5562</li><li>0.7781</li><li>0.9945</li><li>-1</li><li>-0.7479</li><li>-0.463</li><li>-0.1643</li><li>0</li><li>0.2466</li><li>0.5562</li><li>0.7781</li><li>0.9945</li><li>-1</li><li>-0.7479</li><li>-0.463</li><li>-0.1643</li><li>-0.0027</li><li>0.2466</li><li>0.5562</li><li>0.7781</li><li>0.9945</li><li>-1</li><li>-0.7479</li><li>-0.463</li><li>-0.1643</li><li>-0.0027</li><li>0.2466</li><li>0.5562</li><li>0.7781</li><li>0.9945</li><li>-1</li><li>-0.7479</li><li>-0.463</li><li>-0.1643</li><li>-0.0027</li><li>0.2466</li><li>0.5562</li><li>0.7781</li><li>0.9945</li><li>-1</li><li>-0.7479</li><li>-0.463</li><li>-0.1643</li><li>-0.0027</li><li>0.2466</li><li>0.5562</li><li>0.7781</li><li>0.9945</li><li>-1</li><li>-0.7479</li><li>-0.463</li><li>-0.1643</li><li>-0.0027</li><li>0.2466</li><li>0.5562</li><li>0.7781</li><li>0.9945</li><li>-1</li><li>-0.7479</li><li>-0.463</li><li>-0.1643</li><li>-0.0027</li><li>0.2466</li><li>0.5562</li><li>0.7808</li><li>0.9945</li><li>-1</li><li>-0.7479</li><li>-0.463</li><li>-0.1643</li><li>-0.0027</li><li>0.2466</li><li>0.5562</li><li>0.7781</li><li>1.0055</li></ol>\n"
      ],
      "text/latex": [
       "\\begin{enumerate*}\n",
       "\\item -1\n",
       "\\item -0.7479\n",
       "\\item -0.463\n",
       "\\item -0.1643\n",
       "\\item -0.0027\n",
       "\\item 0.2466\n",
       "\\item 0.5562\n",
       "\\item 0.7781\n",
       "\\item 0.9945\n",
       "\\item -1\n",
       "\\item -0.7479\n",
       "\\item -0.463\n",
       "\\item -0.1643\n",
       "\\item -0.0027\n",
       "\\item 0.2466\n",
       "\\item 0.5562\n",
       "\\item 0.7781\n",
       "\\item 0.9945\n",
       "\\item -1\n",
       "\\item -0.7479\n",
       "\\item -0.463\n",
       "\\item -0.1643\n",
       "\\item -0.0027\n",
       "\\item 0.2466\n",
       "\\item 0.5562\n",
       "\\item 0.7781\n",
       "\\item 0.9945\n",
       "\\item -1\n",
       "\\item -0.7479\n",
       "\\item -0.463\n",
       "\\item -0.1643\n",
       "\\item -0.0027\n",
       "\\item 0.2466\n",
       "\\item 0.5562\n",
       "\\item 0.7781\n",
       "\\item 0.9945\n",
       "\\item -1\n",
       "\\item -0.7479\n",
       "\\item -0.4493\n",
       "\\item -0.1643\n",
       "\\item -0.0027\n",
       "\\item 0.2466\n",
       "\\item 0.5562\n",
       "\\item 0.7781\n",
       "\\item 0.9973\n",
       "\\item -1\n",
       "\\item -0.7479\n",
       "\\item -0.463\n",
       "\\item -0.1643\n",
       "\\item -0.0027\n",
       "\\item 0.2466\n",
       "\\item 0.5562\n",
       "\\item 0.7781\n",
       "\\item 0.9945\n",
       "\\item -1\n",
       "\\item -0.7479\n",
       "\\item -0.4493\n",
       "\\item -0.1643\n",
       "\\item 0\n",
       "\\item 0.2466\n",
       "\\item 0.5562\n",
       "\\item 0.7945\n",
       "\\item 0.9945\n",
       "\\item -1\n",
       "\\item -0.7479\n",
       "\\item -0.463\n",
       "\\item -0.1643\n",
       "\\item -0.0027\n",
       "\\item 0.2466\n",
       "\\item 0.5562\n",
       "\\item 0.7945\n",
       "\\item 1.0055\n",
       "\\item -1\n",
       "\\item -0.7479\n",
       "\\item -0.4493\n",
       "\\item -0.1643\n",
       "\\item -0.0027\n",
       "\\item 0.2466\n",
       "\\item 0.5562\n",
       "\\item 0.7945\n",
       "\\item 0.9945\n",
       "\\item -1\n",
       "\\item -0.7479\n",
       "\\item -0.463\n",
       "\\item -0.1643\n",
       "\\item -0.0027\n",
       "\\item 0.2466\n",
       "\\item 0.5562\n",
       "\\item 0.7781\n",
       "\\item 0.9945\n",
       "\\item -1\n",
       "\\item -0.7479\n",
       "\\item -0.463\n",
       "\\item -0.1643\n",
       "\\item -0.0027\n",
       "\\item 0.2466\n",
       "\\item 0.5562\n",
       "\\item 0.7781\n",
       "\\item 0.9945\n",
       "\\item -1\n",
       "\\item -0.7479\n",
       "\\item -0.463\n",
       "\\item -0.1643\n",
       "\\item 0\n",
       "\\item 0.2466\n",
       "\\item 0.5562\n",
       "\\item 0.7781\n",
       "\\item 0.9945\n",
       "\\item -1\n",
       "\\item -0.715\n",
       "\\item -0.463\n",
       "\\item -0.1643\n",
       "\\item -0.0027\n",
       "\\item 0.2466\n",
       "\\item 0.5562\n",
       "\\item 0.7781\n",
       "\\item 0.9945\n",
       "\\item -1\n",
       "\\item -0.7479\n",
       "\\item -0.463\n",
       "\\item -0.1643\n",
       "\\item 0\n",
       "\\item 0.2466\n",
       "\\item 0.5562\n",
       "\\item 0.7781\n",
       "\\item 0.9945\n",
       "\\item -1\n",
       "\\item -0.7479\n",
       "\\item -0.463\n",
       "\\item -0.1643\n",
       "\\item -0.0027\n",
       "\\item 0.2466\n",
       "\\item 0.5562\n",
       "\\item 0.7781\n",
       "\\item 0.9945\n",
       "\\item -1\n",
       "\\item -0.7479\n",
       "\\item -0.463\n",
       "\\item -0.1643\n",
       "\\item -0.0027\n",
       "\\item 0.2466\n",
       "\\item 0.5562\n",
       "\\item 0.7781\n",
       "\\item 0.9945\n",
       "\\item -1\n",
       "\\item -0.7479\n",
       "\\item -0.463\n",
       "\\item -0.1643\n",
       "\\item -0.0027\n",
       "\\item 0.2466\n",
       "\\item 0.5562\n",
       "\\item 0.7781\n",
       "\\item 0.9945\n",
       "\\item -1\n",
       "\\item -0.7479\n",
       "\\item -0.463\n",
       "\\item -0.1643\n",
       "\\item -0.0027\n",
       "\\item 0.2466\n",
       "\\item 0.5562\n",
       "\\item 0.7781\n",
       "\\item 0.9945\n",
       "\\item -1\n",
       "\\item -0.7479\n",
       "\\item -0.463\n",
       "\\item -0.1643\n",
       "\\item 0\n",
       "\\item 0.2466\n",
       "\\item 0.5562\n",
       "\\item 0.7781\n",
       "\\item 0.9945\n",
       "\\item -1\n",
       "\\item -0.7479\n",
       "\\item -0.463\n",
       "\\item -0.1643\n",
       "\\item -0.0027\n",
       "\\item 0.2466\n",
       "\\item 0.5562\n",
       "\\item 0.7781\n",
       "\\item 0.9945\n",
       "\\item -1\n",
       "\\item -0.7479\n",
       "\\item -0.463\n",
       "\\item -0.1643\n",
       "\\item -0.0027\n",
       "\\item 0.2466\n",
       "\\item 0.5562\n",
       "\\item 0.7781\n",
       "\\item 0.9945\n",
       "\\item -1\n",
       "\\item -0.7479\n",
       "\\item -0.463\n",
       "\\item -0.1643\n",
       "\\item -0.0027\n",
       "\\item 0.2466\n",
       "\\item 0.5562\n",
       "\\item 0.7781\n",
       "\\item 0.9945\n",
       "\\item -1\n",
       "\\item -0.7479\n",
       "\\item -0.463\n",
       "\\item -0.1643\n",
       "\\item -0.0027\n",
       "\\item 0.2466\n",
       "\\item 0.5562\n",
       "\\item 0.7781\n",
       "\\item 0.9945\n",
       "\\item -1\n",
       "\\item -0.7479\n",
       "\\item -0.463\n",
       "\\item -0.1643\n",
       "\\item -0.0027\n",
       "\\item 0.2466\n",
       "\\item 0.5562\n",
       "\\item 0.7781\n",
       "\\item 0.9945\n",
       "\\item -1\n",
       "\\item -0.7479\n",
       "\\item -0.463\n",
       "\\item -0.1643\n",
       "\\item -0.0027\n",
       "\\item 0.2466\n",
       "\\item 0.5562\n",
       "\\item 0.7808\n",
       "\\item 0.9945\n",
       "\\item -1\n",
       "\\item -0.7479\n",
       "\\item -0.463\n",
       "\\item -0.1643\n",
       "\\item -0.0027\n",
       "\\item 0.2466\n",
       "\\item 0.5562\n",
       "\\item 0.7781\n",
       "\\item 1.0055\n",
       "\\end{enumerate*}\n"
      ],
      "text/markdown": [
       "1. -1\n",
       "2. -0.7479\n",
       "3. -0.463\n",
       "4. -0.1643\n",
       "5. -0.0027\n",
       "6. 0.2466\n",
       "7. 0.5562\n",
       "8. 0.7781\n",
       "9. 0.9945\n",
       "10. -1\n",
       "11. -0.7479\n",
       "12. -0.463\n",
       "13. -0.1643\n",
       "14. -0.0027\n",
       "15. 0.2466\n",
       "16. 0.5562\n",
       "17. 0.7781\n",
       "18. 0.9945\n",
       "19. -1\n",
       "20. -0.7479\n",
       "21. -0.463\n",
       "22. -0.1643\n",
       "23. -0.0027\n",
       "24. 0.2466\n",
       "25. 0.5562\n",
       "26. 0.7781\n",
       "27. 0.9945\n",
       "28. -1\n",
       "29. -0.7479\n",
       "30. -0.463\n",
       "31. -0.1643\n",
       "32. -0.0027\n",
       "33. 0.2466\n",
       "34. 0.5562\n",
       "35. 0.7781\n",
       "36. 0.9945\n",
       "37. -1\n",
       "38. -0.7479\n",
       "39. -0.4493\n",
       "40. -0.1643\n",
       "41. -0.0027\n",
       "42. 0.2466\n",
       "43. 0.5562\n",
       "44. 0.7781\n",
       "45. 0.9973\n",
       "46. -1\n",
       "47. -0.7479\n",
       "48. -0.463\n",
       "49. -0.1643\n",
       "50. -0.0027\n",
       "51. 0.2466\n",
       "52. 0.5562\n",
       "53. 0.7781\n",
       "54. 0.9945\n",
       "55. -1\n",
       "56. -0.7479\n",
       "57. -0.4493\n",
       "58. -0.1643\n",
       "59. 0\n",
       "60. 0.2466\n",
       "61. 0.5562\n",
       "62. 0.7945\n",
       "63. 0.9945\n",
       "64. -1\n",
       "65. -0.7479\n",
       "66. -0.463\n",
       "67. -0.1643\n",
       "68. -0.0027\n",
       "69. 0.2466\n",
       "70. 0.5562\n",
       "71. 0.7945\n",
       "72. 1.0055\n",
       "73. -1\n",
       "74. -0.7479\n",
       "75. -0.4493\n",
       "76. -0.1643\n",
       "77. -0.0027\n",
       "78. 0.2466\n",
       "79. 0.5562\n",
       "80. 0.7945\n",
       "81. 0.9945\n",
       "82. -1\n",
       "83. -0.7479\n",
       "84. -0.463\n",
       "85. -0.1643\n",
       "86. -0.0027\n",
       "87. 0.2466\n",
       "88. 0.5562\n",
       "89. 0.7781\n",
       "90. 0.9945\n",
       "91. -1\n",
       "92. -0.7479\n",
       "93. -0.463\n",
       "94. -0.1643\n",
       "95. -0.0027\n",
       "96. 0.2466\n",
       "97. 0.5562\n",
       "98. 0.7781\n",
       "99. 0.9945\n",
       "100. -1\n",
       "101. -0.7479\n",
       "102. -0.463\n",
       "103. -0.1643\n",
       "104. 0\n",
       "105. 0.2466\n",
       "106. 0.5562\n",
       "107. 0.7781\n",
       "108. 0.9945\n",
       "109. -1\n",
       "110. -0.715\n",
       "111. -0.463\n",
       "112. -0.1643\n",
       "113. -0.0027\n",
       "114. 0.2466\n",
       "115. 0.5562\n",
       "116. 0.7781\n",
       "117. 0.9945\n",
       "118. -1\n",
       "119. -0.7479\n",
       "120. -0.463\n",
       "121. -0.1643\n",
       "122. 0\n",
       "123. 0.2466\n",
       "124. 0.5562\n",
       "125. 0.7781\n",
       "126. 0.9945\n",
       "127. -1\n",
       "128. -0.7479\n",
       "129. -0.463\n",
       "130. -0.1643\n",
       "131. -0.0027\n",
       "132. 0.2466\n",
       "133. 0.5562\n",
       "134. 0.7781\n",
       "135. 0.9945\n",
       "136. -1\n",
       "137. -0.7479\n",
       "138. -0.463\n",
       "139. -0.1643\n",
       "140. -0.0027\n",
       "141. 0.2466\n",
       "142. 0.5562\n",
       "143. 0.7781\n",
       "144. 0.9945\n",
       "145. -1\n",
       "146. -0.7479\n",
       "147. -0.463\n",
       "148. -0.1643\n",
       "149. -0.0027\n",
       "150. 0.2466\n",
       "151. 0.5562\n",
       "152. 0.7781\n",
       "153. 0.9945\n",
       "154. -1\n",
       "155. -0.7479\n",
       "156. -0.463\n",
       "157. -0.1643\n",
       "158. -0.0027\n",
       "159. 0.2466\n",
       "160. 0.5562\n",
       "161. 0.7781\n",
       "162. 0.9945\n",
       "163. -1\n",
       "164. -0.7479\n",
       "165. -0.463\n",
       "166. -0.1643\n",
       "167. 0\n",
       "168. 0.2466\n",
       "169. 0.5562\n",
       "170. 0.7781\n",
       "171. 0.9945\n",
       "172. -1\n",
       "173. -0.7479\n",
       "174. -0.463\n",
       "175. -0.1643\n",
       "176. -0.0027\n",
       "177. 0.2466\n",
       "178. 0.5562\n",
       "179. 0.7781\n",
       "180. 0.9945\n",
       "181. -1\n",
       "182. -0.7479\n",
       "183. -0.463\n",
       "184. -0.1643\n",
       "185. -0.0027\n",
       "186. 0.2466\n",
       "187. 0.5562\n",
       "188. 0.7781\n",
       "189. 0.9945\n",
       "190. -1\n",
       "191. -0.7479\n",
       "192. -0.463\n",
       "193. -0.1643\n",
       "194. -0.0027\n",
       "195. 0.2466\n",
       "196. 0.5562\n",
       "197. 0.7781\n",
       "198. 0.9945\n",
       "199. -1\n",
       "200. -0.7479\n",
       "201. -0.463\n",
       "202. -0.1643\n",
       "203. -0.0027\n",
       "204. 0.2466\n",
       "205. 0.5562\n",
       "206. 0.7781\n",
       "207. 0.9945\n",
       "208. -1\n",
       "209. -0.7479\n",
       "210. -0.463\n",
       "211. -0.1643\n",
       "212. -0.0027\n",
       "213. 0.2466\n",
       "214. 0.5562\n",
       "215. 0.7781\n",
       "216. 0.9945\n",
       "217. -1\n",
       "218. -0.7479\n",
       "219. -0.463\n",
       "220. -0.1643\n",
       "221. -0.0027\n",
       "222. 0.2466\n",
       "223. 0.5562\n",
       "224. 0.7808\n",
       "225. 0.9945\n",
       "226. -1\n",
       "227. -0.7479\n",
       "228. -0.463\n",
       "229. -0.1643\n",
       "230. -0.0027\n",
       "231. 0.2466\n",
       "232. 0.5562\n",
       "233. 0.7781\n",
       "234. 1.0055\n",
       "\n",
       "\n"
      ],
      "text/plain": [
       "  [1] -1.0000 -0.7479 -0.4630 -0.1643 -0.0027  0.2466  0.5562  0.7781  0.9945\n",
       " [10] -1.0000 -0.7479 -0.4630 -0.1643 -0.0027  0.2466  0.5562  0.7781  0.9945\n",
       " [19] -1.0000 -0.7479 -0.4630 -0.1643 -0.0027  0.2466  0.5562  0.7781  0.9945\n",
       " [28] -1.0000 -0.7479 -0.4630 -0.1643 -0.0027  0.2466  0.5562  0.7781  0.9945\n",
       " [37] -1.0000 -0.7479 -0.4493 -0.1643 -0.0027  0.2466  0.5562  0.7781  0.9973\n",
       " [46] -1.0000 -0.7479 -0.4630 -0.1643 -0.0027  0.2466  0.5562  0.7781  0.9945\n",
       " [55] -1.0000 -0.7479 -0.4493 -0.1643  0.0000  0.2466  0.5562  0.7945  0.9945\n",
       " [64] -1.0000 -0.7479 -0.4630 -0.1643 -0.0027  0.2466  0.5562  0.7945  1.0055\n",
       " [73] -1.0000 -0.7479 -0.4493 -0.1643 -0.0027  0.2466  0.5562  0.7945  0.9945\n",
       " [82] -1.0000 -0.7479 -0.4630 -0.1643 -0.0027  0.2466  0.5562  0.7781  0.9945\n",
       " [91] -1.0000 -0.7479 -0.4630 -0.1643 -0.0027  0.2466  0.5562  0.7781  0.9945\n",
       "[100] -1.0000 -0.7479 -0.4630 -0.1643  0.0000  0.2466  0.5562  0.7781  0.9945\n",
       "[109] -1.0000 -0.7150 -0.4630 -0.1643 -0.0027  0.2466  0.5562  0.7781  0.9945\n",
       "[118] -1.0000 -0.7479 -0.4630 -0.1643  0.0000  0.2466  0.5562  0.7781  0.9945\n",
       "[127] -1.0000 -0.7479 -0.4630 -0.1643 -0.0027  0.2466  0.5562  0.7781  0.9945\n",
       "[136] -1.0000 -0.7479 -0.4630 -0.1643 -0.0027  0.2466  0.5562  0.7781  0.9945\n",
       "[145] -1.0000 -0.7479 -0.4630 -0.1643 -0.0027  0.2466  0.5562  0.7781  0.9945\n",
       "[154] -1.0000 -0.7479 -0.4630 -0.1643 -0.0027  0.2466  0.5562  0.7781  0.9945\n",
       "[163] -1.0000 -0.7479 -0.4630 -0.1643  0.0000  0.2466  0.5562  0.7781  0.9945\n",
       "[172] -1.0000 -0.7479 -0.4630 -0.1643 -0.0027  0.2466  0.5562  0.7781  0.9945\n",
       "[181] -1.0000 -0.7479 -0.4630 -0.1643 -0.0027  0.2466  0.5562  0.7781  0.9945\n",
       "[190] -1.0000 -0.7479 -0.4630 -0.1643 -0.0027  0.2466  0.5562  0.7781  0.9945\n",
       "[199] -1.0000 -0.7479 -0.4630 -0.1643 -0.0027  0.2466  0.5562  0.7781  0.9945\n",
       "[208] -1.0000 -0.7479 -0.4630 -0.1643 -0.0027  0.2466  0.5562  0.7781  0.9945\n",
       "[217] -1.0000 -0.7479 -0.4630 -0.1643 -0.0027  0.2466  0.5562  0.7808  0.9945\n",
       "[226] -1.0000 -0.7479 -0.4630 -0.1643 -0.0027  0.2466  0.5562  0.7781  1.0055"
      ]
     },
     "metadata": {},
     "output_type": "display_data"
    }
   ],
   "source": [
    "getCovariate( Oxboys )"
   ]
  },
  {
   "cell_type": "code",
   "execution_count": 38,
   "id": "10490654",
   "metadata": {},
   "outputs": [
    {
     "data": {
      "text/plain": [
       "         \n",
       "          10 26 25 9 2 6 7 17 16 15 8 20 1 18 5 23 11 21 3 24 22 12 13 14 19 4\n",
       "  -1       1  1  1 1 1 1 1  1  1  1 1  1 1  1 1  1  1  1 1  1  1  1  1  1  1 1\n",
       "  -0.7479  1  1  1 1 1 1 1  1  1  1 1  1 1  1 1  1  1  1 1  1  1  1  0  1  1 1\n",
       "  -0.715   0  0  0 0 0 0 0  0  0  0 0  0 0  0 0  0  0  0 0  0  0  0  1  0  0 0\n",
       "  -0.463   1  1  1 0 1 1 0  1  1  1 1  1 1  1 0  1  1  1 1  1  1  1  1  1  1 1\n",
       "  -0.4493  0  0  0 1 0 0 1  0  0  0 0  0 0  0 1  0  0  0 0  0  0  0  0  0  0 0\n",
       "  -0.1643  1  1  1 1 1 1 1  1  1  1 1  1 1  1 1  1  1  1 1  1  1  1  1  1  1 1\n",
       "  -0.0027  1  1  1 1 1 1 0  1  1  1 1  1 1  1 1  1  1  1 1  1  1  0  1  0  0 1\n",
       "  0        0  0  0 0 0 0 1  0  0  0 0  0 0  0 0  0  0  0 0  0  0  1  0  1  1 0\n",
       "  0.2466   1  1  1 1 1 1 1  1  1  1 1  1 1  1 1  1  1  1 1  1  1  1  1  1  1 1\n",
       "  0.5562   1  1  1 1 1 1 1  1  1  1 1  1 1  1 1  1  1  1 1  1  1  1  1  1  1 1\n",
       "  0.7781   1  1  0 0 1 1 0  1  1  1 0  1 1  1 1  1  1  1 1  1  1  1  1  1  1 1\n",
       "  0.7808   0  0  1 0 0 0 0  0  0  0 0  0 0  0 0  0  0  0 0  0  0  0  0  0  0 0\n",
       "  0.7945   0  0  0 1 0 0 1  0  0  0 1  0 0  0 0  0  0  0 0  0  0  0  0  0  0 0\n",
       "  0.9945   1  0  1 1 1 1 1  1  1  1 0  1 1  1 0  1  1  1 1  1  1  1  1  1  1 1\n",
       "  0.9973   0  0  0 0 0 0 0  0  0  0 0  0 0  0 1  0  0  0 0  0  0  0  0  0  0 0\n",
       "  1.0055   0  1  0 0 0 0 0  0  0  0 1  0 0  0 0  0  0  0 0  0  0  0  0  0  0 0"
      ]
     },
     "metadata": {},
     "output_type": "display_data"
    }
   ],
   "source": [
    "table(getCovariate( Oxboys ), getGroups( Oxboys ))"
   ]
  },
  {
   "cell_type": "code",
   "execution_count": 36,
   "id": "1125bbec",
   "metadata": {},
   "outputs": [
    {
     "data": {
      "text/html": [
       "FALSE"
      ],
      "text/latex": [
       "FALSE"
      ],
      "text/markdown": [
       "FALSE"
      ],
      "text/plain": [
       "[1] FALSE"
      ]
     },
     "metadata": {},
     "output_type": "display_data"
    }
   ],
   "source": [
    "isBalanced(Oxboys)"
   ]
  },
  {
   "cell_type": "markdown",
   "id": "c102d8f5",
   "metadata": {},
   "source": [
    "#### 可以更改数据集的formula"
   ]
  },
  {
   "cell_type": "code",
   "execution_count": 41,
   "id": "1cc48ea6",
   "metadata": {},
   "outputs": [
    {
     "data": {
      "text/html": [
       "<table class=\"dataframe\">\n",
       "<caption>A nfnGroupedData: 6 × 5</caption>\n",
       "<thead>\n",
       "\t<tr><th></th><th scope=col>deltaBP</th><th scope=col>dose</th><th scope=col>Run</th><th scope=col>Treatment</th><th scope=col>Rabbit</th></tr>\n",
       "\t<tr><th></th><th scope=col>&lt;dbl&gt;</th><th scope=col>&lt;dbl&gt;</th><th scope=col>&lt;ord&gt;</th><th scope=col>&lt;fct&gt;</th><th scope=col>&lt;ord&gt;</th></tr>\n",
       "</thead>\n",
       "<tbody>\n",
       "\t<tr><th scope=row>1</th><td> 0.5</td><td>  6.25</td><td>P1</td><td>Placebo</td><td>1</td></tr>\n",
       "\t<tr><th scope=row>2</th><td> 4.5</td><td> 12.50</td><td>P1</td><td>Placebo</td><td>1</td></tr>\n",
       "\t<tr><th scope=row>3</th><td>10.0</td><td> 25.00</td><td>P1</td><td>Placebo</td><td>1</td></tr>\n",
       "\t<tr><th scope=row>4</th><td>26.0</td><td> 50.00</td><td>P1</td><td>Placebo</td><td>1</td></tr>\n",
       "\t<tr><th scope=row>5</th><td>37.0</td><td>100.00</td><td>P1</td><td>Placebo</td><td>1</td></tr>\n",
       "\t<tr><th scope=row>6</th><td>32.0</td><td>200.00</td><td>P1</td><td>Placebo</td><td>1</td></tr>\n",
       "</tbody>\n",
       "</table>\n"
      ],
      "text/latex": [
       "A nfnGroupedData: 6 × 5\n",
       "\\begin{tabular}{r|lllll}\n",
       "  & deltaBP & dose & Run & Treatment & Rabbit\\\\\n",
       "  & <dbl> & <dbl> & <ord> & <fct> & <ord>\\\\\n",
       "\\hline\n",
       "\t1 &  0.5 &   6.25 & P1 & Placebo & 1\\\\\n",
       "\t2 &  4.5 &  12.50 & P1 & Placebo & 1\\\\\n",
       "\t3 & 10.0 &  25.00 & P1 & Placebo & 1\\\\\n",
       "\t4 & 26.0 &  50.00 & P1 & Placebo & 1\\\\\n",
       "\t5 & 37.0 & 100.00 & P1 & Placebo & 1\\\\\n",
       "\t6 & 32.0 & 200.00 & P1 & Placebo & 1\\\\\n",
       "\\end{tabular}\n"
      ],
      "text/markdown": [
       "\n",
       "A nfnGroupedData: 6 × 5\n",
       "\n",
       "| <!--/--> | deltaBP &lt;dbl&gt; | dose &lt;dbl&gt; | Run &lt;ord&gt; | Treatment &lt;fct&gt; | Rabbit &lt;ord&gt; |\n",
       "|---|---|---|---|---|---|\n",
       "| 1 |  0.5 |   6.25 | P1 | Placebo | 1 |\n",
       "| 2 |  4.5 |  12.50 | P1 | Placebo | 1 |\n",
       "| 3 | 10.0 |  25.00 | P1 | Placebo | 1 |\n",
       "| 4 | 26.0 |  50.00 | P1 | Placebo | 1 |\n",
       "| 5 | 37.0 | 100.00 | P1 | Placebo | 1 |\n",
       "| 6 | 32.0 | 200.00 | P1 | Placebo | 1 |\n",
       "\n"
      ],
      "text/plain": [
       "  deltaBP dose   Run Treatment Rabbit\n",
       "1  0.5      6.25 P1  Placebo   1     \n",
       "2  4.5     12.50 P1  Placebo   1     \n",
       "3 10.0     25.00 P1  Placebo   1     \n",
       "4 26.0     50.00 P1  Placebo   1     \n",
       "5 37.0    100.00 P1  Placebo   1     \n",
       "6 32.0    200.00 P1  Placebo   1     "
      ]
     },
     "metadata": {},
     "output_type": "display_data"
    }
   ],
   "source": [
    "head(PBG)"
   ]
  },
  {
   "cell_type": "code",
   "execution_count": 42,
   "id": "04ed6057",
   "metadata": {},
   "outputs": [
    {
     "data": {
      "text/plain": [
       "deltaBP ~ dose | Rabbit"
      ]
     },
     "metadata": {},
     "output_type": "display_data"
    }
   ],
   "source": [
    "formula( PBG )"
   ]
  },
  {
   "cell_type": "code",
   "execution_count": 43,
   "id": "4f74e476",
   "metadata": {},
   "outputs": [
    {
     "data": {
      "text/plain": [
       "deltaBP ~ log(dose) | Rabbit\n",
       "<environment: 0x0000029f4859a9d0>"
      ]
     },
     "metadata": {},
     "output_type": "display_data"
    }
   ],
   "source": [
    "PBG.log <- update( PBG, formula = deltaBP ~ log(dose) | Rabbit )\n",
    "formula(PBG.log)"
   ]
  },
  {
   "cell_type": "code",
   "execution_count": 44,
   "id": "3af7190c",
   "metadata": {},
   "outputs": [
    {
     "data": {
      "text/html": [
       "<table class=\"dataframe\">\n",
       "<caption>A nfnGroupedData: 6 × 5</caption>\n",
       "<thead>\n",
       "\t<tr><th></th><th scope=col>deltaBP</th><th scope=col>dose</th><th scope=col>Run</th><th scope=col>Treatment</th><th scope=col>Rabbit</th></tr>\n",
       "\t<tr><th></th><th scope=col>&lt;dbl&gt;</th><th scope=col>&lt;dbl&gt;</th><th scope=col>&lt;ord&gt;</th><th scope=col>&lt;fct&gt;</th><th scope=col>&lt;ord&gt;</th></tr>\n",
       "</thead>\n",
       "<tbody>\n",
       "\t<tr><th scope=row>1</th><td> 0.5</td><td>  6.25</td><td>P1</td><td>Placebo</td><td>1</td></tr>\n",
       "\t<tr><th scope=row>2</th><td> 4.5</td><td> 12.50</td><td>P1</td><td>Placebo</td><td>1</td></tr>\n",
       "\t<tr><th scope=row>3</th><td>10.0</td><td> 25.00</td><td>P1</td><td>Placebo</td><td>1</td></tr>\n",
       "\t<tr><th scope=row>4</th><td>26.0</td><td> 50.00</td><td>P1</td><td>Placebo</td><td>1</td></tr>\n",
       "\t<tr><th scope=row>5</th><td>37.0</td><td>100.00</td><td>P1</td><td>Placebo</td><td>1</td></tr>\n",
       "\t<tr><th scope=row>6</th><td>32.0</td><td>200.00</td><td>P1</td><td>Placebo</td><td>1</td></tr>\n",
       "</tbody>\n",
       "</table>\n"
      ],
      "text/latex": [
       "A nfnGroupedData: 6 × 5\n",
       "\\begin{tabular}{r|lllll}\n",
       "  & deltaBP & dose & Run & Treatment & Rabbit\\\\\n",
       "  & <dbl> & <dbl> & <ord> & <fct> & <ord>\\\\\n",
       "\\hline\n",
       "\t1 &  0.5 &   6.25 & P1 & Placebo & 1\\\\\n",
       "\t2 &  4.5 &  12.50 & P1 & Placebo & 1\\\\\n",
       "\t3 & 10.0 &  25.00 & P1 & Placebo & 1\\\\\n",
       "\t4 & 26.0 &  50.00 & P1 & Placebo & 1\\\\\n",
       "\t5 & 37.0 & 100.00 & P1 & Placebo & 1\\\\\n",
       "\t6 & 32.0 & 200.00 & P1 & Placebo & 1\\\\\n",
       "\\end{tabular}\n"
      ],
      "text/markdown": [
       "\n",
       "A nfnGroupedData: 6 × 5\n",
       "\n",
       "| <!--/--> | deltaBP &lt;dbl&gt; | dose &lt;dbl&gt; | Run &lt;ord&gt; | Treatment &lt;fct&gt; | Rabbit &lt;ord&gt; |\n",
       "|---|---|---|---|---|---|\n",
       "| 1 |  0.5 |   6.25 | P1 | Placebo | 1 |\n",
       "| 2 |  4.5 |  12.50 | P1 | Placebo | 1 |\n",
       "| 3 | 10.0 |  25.00 | P1 | Placebo | 1 |\n",
       "| 4 | 26.0 |  50.00 | P1 | Placebo | 1 |\n",
       "| 5 | 37.0 | 100.00 | P1 | Placebo | 1 |\n",
       "| 6 | 32.0 | 200.00 | P1 | Placebo | 1 |\n",
       "\n"
      ],
      "text/plain": [
       "  deltaBP dose   Run Treatment Rabbit\n",
       "1  0.5      6.25 P1  Placebo   1     \n",
       "2  4.5     12.50 P1  Placebo   1     \n",
       "3 10.0     25.00 P1  Placebo   1     \n",
       "4 26.0     50.00 P1  Placebo   1     \n",
       "5 37.0    100.00 P1  Placebo   1     \n",
       "6 32.0    200.00 P1  Placebo   1     "
      ]
     },
     "metadata": {},
     "output_type": "display_data"
    }
   ],
   "source": [
    "head(PBG)"
   ]
  },
  {
   "cell_type": "code",
   "execution_count": 16,
   "id": "d2d1f302",
   "metadata": {},
   "outputs": [
    {
     "data": {
      "text/html": [
       "<style>\n",
       ".list-inline {list-style: none; margin:0; padding: 0}\n",
       ".list-inline>li {display: inline-block}\n",
       ".list-inline>li:not(:last-child)::after {content: \"\\00b7\"; padding: 0 .5ex}\n",
       "</style>\n",
       "<ol class=list-inline><li>1.83258146374831</li><li>2.52572864430826</li><li>3.2188758248682</li><li>3.91202300542815</li><li>4.60517018598809</li><li>5.29831736654804</li></ol>\n"
      ],
      "text/latex": [
       "\\begin{enumerate*}\n",
       "\\item 1.83258146374831\n",
       "\\item 2.52572864430826\n",
       "\\item 3.2188758248682\n",
       "\\item 3.91202300542815\n",
       "\\item 4.60517018598809\n",
       "\\item 5.29831736654804\n",
       "\\end{enumerate*}\n"
      ],
      "text/markdown": [
       "1. 1.83258146374831\n",
       "2. 2.52572864430826\n",
       "3. 3.2188758248682\n",
       "4. 3.91202300542815\n",
       "5. 4.60517018598809\n",
       "6. 5.29831736654804\n",
       "\n",
       "\n"
      ],
      "text/plain": [
       "[1] 1.832581 2.525729 3.218876 3.912023 4.605170 5.298317"
      ]
     },
     "metadata": {},
     "output_type": "display_data"
    }
   ],
   "source": [
    "unique( getCovariate(PBG.log) )"
   ]
  },
  {
   "cell_type": "code",
   "execution_count": 17,
   "id": "703c474e",
   "metadata": {},
   "outputs": [
    {
     "data": {
      "text/html": [
       "<style>\n",
       ".list-inline {list-style: none; margin:0; padding: 0}\n",
       ".list-inline>li {display: inline-block}\n",
       ".list-inline>li:not(:last-child)::after {content: \"\\00b7\"; padding: 0 .5ex}\n",
       "</style>\n",
       "<ol class=list-inline><li>6.25</li><li>12.5</li><li>25</li><li>50</li><li>100</li><li>200</li></ol>\n"
      ],
      "text/latex": [
       "\\begin{enumerate*}\n",
       "\\item 6.25\n",
       "\\item 12.5\n",
       "\\item 25\n",
       "\\item 50\n",
       "\\item 100\n",
       "\\item 200\n",
       "\\end{enumerate*}\n"
      ],
      "text/markdown": [
       "1. 6.25\n",
       "2. 12.5\n",
       "3. 25\n",
       "4. 50\n",
       "5. 100\n",
       "6. 200\n",
       "\n",
       "\n"
      ],
      "text/plain": [
       "[1]   6.25  12.50  25.00  50.00 100.00 200.00"
      ]
     },
     "metadata": {},
     "output_type": "display_data"
    }
   ],
   "source": [
    "unique( getCovariate(PBG) )"
   ]
  },
  {
   "cell_type": "markdown",
   "id": "1e50d269",
   "metadata": {},
   "source": [
    "#### 构建组数据对象"
   ]
  },
  {
   "cell_type": "code",
   "execution_count": 45,
   "id": "c35220df",
   "metadata": {},
   "outputs": [],
   "source": [
    "write.table(Oxboys,\"./oxboys.dat\")"
   ]
  },
  {
   "cell_type": "code",
   "execution_count": 53,
   "id": "c73a32ec",
   "metadata": {},
   "outputs": [],
   "source": [
    "Oxboys.frm <- read.table( \"oxboys.dat\", header = TRUE )"
   ]
  },
  {
   "cell_type": "code",
   "execution_count": 47,
   "id": "e1037e96",
   "metadata": {},
   "outputs": [
    {
     "data": {
      "text/plain": [
       "Subject ~ age + height + Occasion"
      ]
     },
     "metadata": {},
     "output_type": "display_data"
    }
   ],
   "source": [
    "formula(Oxboys.frm)"
   ]
  },
  {
   "cell_type": "code",
   "execution_count": 54,
   "id": "55b031c1",
   "metadata": {},
   "outputs": [
    {
     "data": {
      "text/html": [
       "<style>\n",
       ".list-inline {list-style: none; margin:0; padding: 0}\n",
       ".list-inline>li {display: inline-block}\n",
       ".list-inline>li:not(:last-child)::after {content: \"\\00b7\"; padding: 0 .5ex}\n",
       "</style>\n",
       "<ol class=list-inline><li>'Subject'</li><li>'age'</li><li>'height'</li><li>'Occasion'</li></ol>\n"
      ],
      "text/latex": [
       "\\begin{enumerate*}\n",
       "\\item 'Subject'\n",
       "\\item 'age'\n",
       "\\item 'height'\n",
       "\\item 'Occasion'\n",
       "\\end{enumerate*}\n"
      ],
      "text/markdown": [
       "1. 'Subject'\n",
       "2. 'age'\n",
       "3. 'height'\n",
       "4. 'Occasion'\n",
       "\n",
       "\n"
      ],
      "text/plain": [
       "[1] \"Subject\"  \"age\"      \"height\"   \"Occasion\""
      ]
     },
     "metadata": {},
     "output_type": "display_data"
    }
   ],
   "source": [
    "colnames(Oxboys.frm)"
   ]
  },
  {
   "cell_type": "markdown",
   "id": "2cde7b12",
   "metadata": {},
   "source": [
    "- 生成 groupedData"
   ]
  },
  {
   "cell_type": "code",
   "execution_count": 57,
   "id": "2c45f859",
   "metadata": {},
   "outputs": [
    {
     "data": {
      "text/html": [
       "<table class=\"dataframe\">\n",
       "<caption>A nfnGroupedData: 6 × 4</caption>\n",
       "<thead>\n",
       "\t<tr><th></th><th scope=col>Subject</th><th scope=col>age</th><th scope=col>height</th><th scope=col>Occasion</th></tr>\n",
       "\t<tr><th></th><th scope=col>&lt;ord&gt;</th><th scope=col>&lt;dbl&gt;</th><th scope=col>&lt;dbl&gt;</th><th scope=col>&lt;int&gt;</th></tr>\n",
       "</thead>\n",
       "<tbody>\n",
       "\t<tr><th scope=row>1</th><td>1</td><td>-1.0000</td><td>140.5</td><td>1</td></tr>\n",
       "\t<tr><th scope=row>2</th><td>1</td><td>-0.7479</td><td>143.4</td><td>2</td></tr>\n",
       "\t<tr><th scope=row>3</th><td>1</td><td>-0.4630</td><td>144.8</td><td>3</td></tr>\n",
       "\t<tr><th scope=row>4</th><td>1</td><td>-0.1643</td><td>147.1</td><td>4</td></tr>\n",
       "\t<tr><th scope=row>5</th><td>1</td><td>-0.0027</td><td>147.7</td><td>5</td></tr>\n",
       "\t<tr><th scope=row>6</th><td>1</td><td> 0.2466</td><td>150.2</td><td>6</td></tr>\n",
       "</tbody>\n",
       "</table>\n"
      ],
      "text/latex": [
       "A nfnGroupedData: 6 × 4\n",
       "\\begin{tabular}{r|llll}\n",
       "  & Subject & age & height & Occasion\\\\\n",
       "  & <ord> & <dbl> & <dbl> & <int>\\\\\n",
       "\\hline\n",
       "\t1 & 1 & -1.0000 & 140.5 & 1\\\\\n",
       "\t2 & 1 & -0.7479 & 143.4 & 2\\\\\n",
       "\t3 & 1 & -0.4630 & 144.8 & 3\\\\\n",
       "\t4 & 1 & -0.1643 & 147.1 & 4\\\\\n",
       "\t5 & 1 & -0.0027 & 147.7 & 5\\\\\n",
       "\t6 & 1 &  0.2466 & 150.2 & 6\\\\\n",
       "\\end{tabular}\n"
      ],
      "text/markdown": [
       "\n",
       "A nfnGroupedData: 6 × 4\n",
       "\n",
       "| <!--/--> | Subject &lt;ord&gt; | age &lt;dbl&gt; | height &lt;dbl&gt; | Occasion &lt;int&gt; |\n",
       "|---|---|---|---|---|\n",
       "| 1 | 1 | -1.0000 | 140.5 | 1 |\n",
       "| 2 | 1 | -0.7479 | 143.4 | 2 |\n",
       "| 3 | 1 | -0.4630 | 144.8 | 3 |\n",
       "| 4 | 1 | -0.1643 | 147.1 | 4 |\n",
       "| 5 | 1 | -0.0027 | 147.7 | 5 |\n",
       "| 6 | 1 |  0.2466 | 150.2 | 6 |\n",
       "\n"
      ],
      "text/plain": [
       "  Subject age     height Occasion\n",
       "1 1       -1.0000 140.5  1       \n",
       "2 1       -0.7479 143.4  2       \n",
       "3 1       -0.4630 144.8  3       \n",
       "4 1       -0.1643 147.1  4       \n",
       "5 1       -0.0027 147.7  5       \n",
       "6 1        0.2466 150.2  6       "
      ]
     },
     "metadata": {},
     "output_type": "display_data"
    }
   ],
   "source": [
    "Oxboys.frm <- groupedData( height ~ age | Subject, \n",
    "                      data = read.table(\"oxboys.dat\", header = TRUE),\n",
    "                      labels = list(x = \"age\", y = \"height\") )\n",
    "head(Oxboys.frm)"
   ]
  },
  {
   "cell_type": "code",
   "execution_count": 56,
   "id": "65dfe1de",
   "metadata": {},
   "outputs": [
    {
     "data": {
      "text/plain": [
       "height ~ age | Subject"
      ]
     },
     "metadata": {},
     "output_type": "display_data"
    }
   ],
   "source": [
    "formula(Oxboys.frm)"
   ]
  },
  {
   "cell_type": "markdown",
   "id": "1f721d11",
   "metadata": {},
   "source": [
    "#### 外层因子\n",
    "- 在正畸数据中，观测值是按照测量所在的受试者进行分组的。但由于Sex（性别）是受试者的特征且在对象内是不变的，所以它不能被指定为分组因子，而是被确定为与分组因子相关的外层因子（outer factor）。"
   ]
  },
  {
   "cell_type": "code",
   "execution_count": 58,
   "id": "8aa98103",
   "metadata": {},
   "outputs": [
    {
     "data": {
      "image/png": "[encoded data removed]",
      "text/plain": [
       "plot without title"
      ]
     },
     "metadata": {
      "image/png": {
       "height": 420,
       "width": 420
      }
     },
     "output_type": "display_data"
    }
   ],
   "source": [
    "plot( BodyWeight, outer = ~ Diet, aspect = 3 )"
   ]
  },
  {
   "cell_type": "code",
   "execution_count": 59,
   "id": "1f7aa941",
   "metadata": {},
   "outputs": [
    {
     "data": {
      "image/png": "[encoded data removed]",
      "text/plain": [
       "plot without title"
      ]
     },
     "metadata": {
      "image/png": {
       "height": 420,
       "width": 420
      }
     },
     "output_type": "display_data"
    }
   ],
   "source": [
    "plot( BodyWeight, outer = T, aspect = 3 )"
   ]
  },
  {
   "cell_type": "code",
   "execution_count": 62,
   "id": "3fbddb29",
   "metadata": {},
   "outputs": [
    {
     "data": {
      "image/png": "[encoded data removed]",
      "text/plain": [
       "plot without title"
      ]
     },
     "metadata": {
      "image/png": {
       "height": 420,
       "width": 420
      }
     },
     "output_type": "display_data"
    }
   ],
   "source": [
    "plot( Soybean, outer = ~ Year * Variety )"
   ]
  },
  {
   "cell_type": "code",
   "execution_count": 61,
   "id": "33519fc1",
   "metadata": {},
   "outputs": [
    {
     "data": {
      "image/png": "[encoded data removed]",
      "text/plain": [
       "plot without title"
      ]
     },
     "metadata": {
      "image/png": {
       "height": 420,
       "width": 420
      }
     },
     "output_type": "display_data"
    }
   ],
   "source": [
    "plot( Soybean, outer = ~ Variety * Year )"
   ]
  },
  {
   "cell_type": "code",
   "execution_count": 62,
   "id": "4a2eec55",
   "metadata": {},
   "outputs": [
    {
     "data": {
      "text/html": [
       "<table class=\"dataframe\">\n",
       "<caption>A data.frame: 16 × 2</caption>\n",
       "<thead>\n",
       "\t<tr><th></th><th scope=col>Rat</th><th scope=col>Diet</th></tr>\n",
       "\t<tr><th></th><th scope=col>&lt;ord&gt;</th><th scope=col>&lt;fct&gt;</th></tr>\n",
       "</thead>\n",
       "<tbody>\n",
       "\t<tr><th scope=row>2</th><td>2 </td><td>1</td></tr>\n",
       "\t<tr><th scope=row>3</th><td>3 </td><td>1</td></tr>\n",
       "\t<tr><th scope=row>4</th><td>4 </td><td>1</td></tr>\n",
       "\t<tr><th scope=row>1</th><td>1 </td><td>1</td></tr>\n",
       "\t<tr><th scope=row>8</th><td>8 </td><td>1</td></tr>\n",
       "\t<tr><th scope=row>5</th><td>5 </td><td>1</td></tr>\n",
       "\t<tr><th scope=row>6</th><td>6 </td><td>1</td></tr>\n",
       "\t<tr><th scope=row>7</th><td>7 </td><td>1</td></tr>\n",
       "\t<tr><th scope=row>11</th><td>11</td><td>2</td></tr>\n",
       "\t<tr><th scope=row>9</th><td>9 </td><td>2</td></tr>\n",
       "\t<tr><th scope=row>10</th><td>10</td><td>2</td></tr>\n",
       "\t<tr><th scope=row>12</th><td>12</td><td>2</td></tr>\n",
       "\t<tr><th scope=row>13</th><td>13</td><td>3</td></tr>\n",
       "\t<tr><th scope=row>15</th><td>15</td><td>3</td></tr>\n",
       "\t<tr><th scope=row>14</th><td>14</td><td>3</td></tr>\n",
       "\t<tr><th scope=row>16</th><td>16</td><td>3</td></tr>\n",
       "</tbody>\n",
       "</table>\n"
      ],
      "text/latex": [
       "A data.frame: 16 × 2\n",
       "\\begin{tabular}{r|ll}\n",
       "  & Rat & Diet\\\\\n",
       "  & <ord> & <fct>\\\\\n",
       "\\hline\n",
       "\t2 & 2  & 1\\\\\n",
       "\t3 & 3  & 1\\\\\n",
       "\t4 & 4  & 1\\\\\n",
       "\t1 & 1  & 1\\\\\n",
       "\t8 & 8  & 1\\\\\n",
       "\t5 & 5  & 1\\\\\n",
       "\t6 & 6  & 1\\\\\n",
       "\t7 & 7  & 1\\\\\n",
       "\t11 & 11 & 2\\\\\n",
       "\t9 & 9  & 2\\\\\n",
       "\t10 & 10 & 2\\\\\n",
       "\t12 & 12 & 2\\\\\n",
       "\t13 & 13 & 3\\\\\n",
       "\t15 & 15 & 3\\\\\n",
       "\t14 & 14 & 3\\\\\n",
       "\t16 & 16 & 3\\\\\n",
       "\\end{tabular}\n"
      ],
      "text/markdown": [
       "\n",
       "A data.frame: 16 × 2\n",
       "\n",
       "| <!--/--> | Rat &lt;ord&gt; | Diet &lt;fct&gt; |\n",
       "|---|---|---|\n",
       "| 2 | 2  | 1 |\n",
       "| 3 | 3  | 1 |\n",
       "| 4 | 4  | 1 |\n",
       "| 1 | 1  | 1 |\n",
       "| 8 | 8  | 1 |\n",
       "| 5 | 5  | 1 |\n",
       "| 6 | 6  | 1 |\n",
       "| 7 | 7  | 1 |\n",
       "| 11 | 11 | 2 |\n",
       "| 9 | 9  | 2 |\n",
       "| 10 | 10 | 2 |\n",
       "| 12 | 12 | 2 |\n",
       "| 13 | 13 | 3 |\n",
       "| 15 | 15 | 3 |\n",
       "| 14 | 14 | 3 |\n",
       "| 16 | 16 | 3 |\n",
       "\n"
      ],
      "text/plain": [
       "   Rat Diet\n",
       "2  2   1   \n",
       "3  3   1   \n",
       "4  4   1   \n",
       "1  1   1   \n",
       "8  8   1   \n",
       "5  5   1   \n",
       "6  6   1   \n",
       "7  7   1   \n",
       "11 11  2   \n",
       "9  9   2   \n",
       "10 10  2   \n",
       "12 12  2   \n",
       "13 13  3   \n",
       "15 15  3   \n",
       "14 14  3   \n",
       "16 16  3   "
      ]
     },
     "metadata": {},
     "output_type": "display_data"
    }
   ],
   "source": [
    "gsummary( BodyWeight, invar = TRUE )"
   ]
  },
  {
   "cell_type": "markdown",
   "id": "d9d5f731",
   "metadata": {},
   "source": [
    "#### 内层因子（inner factor）\n",
    "\n",
    "- 在一些实验中，对于同一个实验单元（比如这里说的 “Subject”，即受试者），在进行部分观测时可能应用一种处理水平，而在进行其他观测时又应用另一种处理水平。这里就引出了 “内层因子” 的概念，它与外层因子相对应，意味着它是在实验单元内部、针对不同观测阶段等情况而变化的因素。"
   ]
  },
  {
   "cell_type": "code",
   "execution_count": 63,
   "id": "ddc45fc5",
   "metadata": {},
   "outputs": [
    {
     "data": {
      "image/png": "[encoded data removed]",
      "text/plain": [
       "plot without title"
      ]
     },
     "metadata": {
      "image/png": {
       "height": 420,
       "width": 420
      }
     },
     "output_type": "display_data"
    }
   ],
   "source": [
    "plot( PBG, inner = ~ Treatment, scales = list(x = list(log = 2)))"
   ]
  },
  {
   "cell_type": "markdown",
   "id": "3655e1a1",
   "metadata": {},
   "source": [
    "### 可视化调参\n",
    "\n",
    "#### 格状图的布局"
   ]
  },
  {
   "cell_type": "code",
   "execution_count": 65,
   "id": "a3f8efb6",
   "metadata": {},
   "outputs": [
    {
     "data": {
      "image/png": "[encoded data removed]",
      "text/plain": [
       "plot without title"
      ]
     },
     "metadata": {
      "image/png": {
       "height": 420,
       "width": 420
      }
     },
     "output_type": "display_data"
    }
   ],
   "source": [
    "plot(CO2, layout=c(6,2), between=list(x=c(0,0,0.5,0,0))) # Fig 3.6"
   ]
  },
  {
   "cell_type": "code",
   "execution_count": 66,
   "id": "47b8c05d",
   "metadata": {},
   "outputs": [
    {
     "data": {
      "image/png": "[encoded data removed]",
      "text/plain": [
       "plot without title"
      ]
     },
     "metadata": {
      "image/png": {
       "height": 420,
       "width": 420
      }
     },
     "output_type": "display_data"
    },
    {
     "data": {
      "image/png": "[encoded data removed]",
      "text/plain": [
       "plot without title"
      ]
     },
     "metadata": {
      "image/png": {
       "height": 420,
       "width": 420
      }
     },
     "output_type": "display_data"
    },
    {
     "data": {
      "image/png": "[encoded data removed]",
      "text/plain": [
       "plot without title"
      ]
     },
     "metadata": {
      "image/png": {
       "height": 420,
       "width": 420
      }
     },
     "output_type": "display_data"
    }
   ],
   "source": [
    "plot( Spruce, layout = c(7, 4, 3),\n",
    "     skip = c(rep(FALSE, 27), \n",
    "              TRUE,\n",
    "              rep(FALSE, 27),\n",
    "              TRUE,\n",
    "              rep(FALSE, 12),\n",
    "              rep(TRUE, 2),\n",
    "              rep(FALSE,13)) )"
   ]
  },
  {
   "cell_type": "code",
   "execution_count": 67,
   "id": "9a81cd08",
   "metadata": {},
   "outputs": [
    {
     "data": {
      "image/png": "[encoded data removed]",
      "text/plain": [
       "plot without title"
      ]
     },
     "metadata": {
      "image/png": {
       "height": 420,
       "width": 420
      }
     },
     "output_type": "display_data"
    },
    {
     "data": {
      "image/png": "[encoded data removed]",
      "text/plain": [
       "plot without title"
      ]
     },
     "metadata": {
      "image/png": {
       "height": 420,
       "width": 420
      }
     },
     "output_type": "display_data"
    },
    {
     "data": {
      "image/png": "[encoded data removed]",
      "text/plain": [
       "plot without title"
      ]
     },
     "metadata": {
      "image/png": {
       "height": 420,
       "width": 420
      }
     },
     "output_type": "display_data"
    }
   ],
   "source": [
    "plot( Spruce, layout = c(9, 3, 3), skip = c(rep(FALSE, 66), TRUE, TRUE, rep(FALSE, 13)) )"
   ]
  },
  {
   "cell_type": "markdown",
   "id": "df41af58",
   "metadata": {},
   "source": [
    "#### 调整垂直和水平刻度"
   ]
  },
  {
   "cell_type": "code",
   "execution_count": 68,
   "id": "c0ea71b1",
   "metadata": {},
   "outputs": [
    {
     "data": {
      "text/html": [
       "<style>\n",
       ".list-inline {list-style: none; margin:0; padding: 0}\n",
       ".list-inline>li {display: inline-block}\n",
       ".list-inline>li:not(:last-child)::after {content: \"\\00b7\"; padding: 0 .5ex}\n",
       "</style>\n",
       "<ol class=list-inline><li>0.04882812</li><li>0.1953125</li><li>0.390625</li><li>0.78125</li><li>1.5625</li><li>3.125</li><li>6.25</li><li>12.5</li></ol>\n"
      ],
      "text/latex": [
       "\\begin{enumerate*}\n",
       "\\item 0.04882812\n",
       "\\item 0.1953125\n",
       "\\item 0.390625\n",
       "\\item 0.78125\n",
       "\\item 1.5625\n",
       "\\item 3.125\n",
       "\\item 6.25\n",
       "\\item 12.5\n",
       "\\end{enumerate*}\n"
      ],
      "text/markdown": [
       "1. 0.04882812\n",
       "2. 0.1953125\n",
       "3. 0.390625\n",
       "4. 0.78125\n",
       "5. 1.5625\n",
       "6. 3.125\n",
       "7. 6.25\n",
       "8. 12.5\n",
       "\n",
       "\n"
      ],
      "text/plain": [
       "[1]  0.04882812  0.19531250  0.39062500  0.78125000  1.56250000  3.12500000\n",
       "[7]  6.25000000 12.50000000"
      ]
     },
     "metadata": {},
     "output_type": "display_data"
    }
   ],
   "source": [
    "unique( getCovariate(DNase) )"
   ]
  },
  {
   "cell_type": "code",
   "execution_count": 69,
   "id": "22ba90cf",
   "metadata": {},
   "outputs": [
    {
     "data": {
      "text/html": [
       "<style>\n",
       ".list-inline {list-style: none; margin:0; padding: 0}\n",
       ".list-inline>li {display: inline-block}\n",
       ".list-inline>li:not(:last-child)::after {content: \"\\00b7\"; padding: 0 .5ex}\n",
       "</style>\n",
       "<ol class=list-inline><li>-4.35614395795726</li><li>-2.35614381022528</li><li>-1.35614381022528</li><li>-0.356143810225275</li><li>0.643856189774725</li><li>1.64385618977472</li><li>2.64385618977472</li><li>3.64385618977472</li></ol>\n"
      ],
      "text/latex": [
       "\\begin{enumerate*}\n",
       "\\item -4.35614395795726\n",
       "\\item -2.35614381022528\n",
       "\\item -1.35614381022528\n",
       "\\item -0.356143810225275\n",
       "\\item 0.643856189774725\n",
       "\\item 1.64385618977472\n",
       "\\item 2.64385618977472\n",
       "\\item 3.64385618977472\n",
       "\\end{enumerate*}\n"
      ],
      "text/markdown": [
       "1. -4.35614395795726\n",
       "2. -2.35614381022528\n",
       "3. -1.35614381022528\n",
       "4. -0.356143810225275\n",
       "5. 0.643856189774725\n",
       "6. 1.64385618977472\n",
       "7. 2.64385618977472\n",
       "8. 3.64385618977472\n",
       "\n",
       "\n"
      ],
      "text/plain": [
       "[1] -4.3561440 -2.3561438 -1.3561438 -0.3561438  0.6438562  1.6438562  2.6438562\n",
       "[8]  3.6438562"
      ]
     },
     "metadata": {},
     "output_type": "display_data"
    }
   ],
   "source": [
    "log( unique(getCovariate(DNase)), 2 )"
   ]
  },
  {
   "cell_type": "code",
   "execution_count": 70,
   "id": "798b043d",
   "metadata": {},
   "outputs": [
    {
     "data": {
      "image/png": "[encoded data removed]",
      "text/plain": [
       "plot without title"
      ]
     },
     "metadata": {
      "image/png": {
       "height": 420,
       "width": 420
      }
     },
     "output_type": "display_data"
    }
   ],
   "source": [
    "plot( DNase, layout=c(6,2), scales = list(x=list(log=2)) )"
   ]
  },
  {
   "cell_type": "markdown",
   "id": "5c016659",
   "metadata": {},
   "source": [
    "#### 定义面板函数"
   ]
  },
  {
   "cell_type": "code",
   "execution_count": 71,
   "id": "de39e68a",
   "metadata": {},
   "outputs": [
    {
     "data": {
      "text/html": [
       "<pre class=language-r><code>function (x, y) \n",
       "{\n",
       "<span style=white-space:pre-wrap>    panel.grid()</span>\n",
       "<span style=white-space:pre-wrap>    panel.xyplot(x, y)</span>\n",
       "<span style=white-space:pre-wrap>    y.avg &lt;- tapply(y, x, mean)</span>\n",
       "<span style=white-space:pre-wrap>    xvals &lt;- as.numeric(names(y.avg))</span>\n",
       "<span style=white-space:pre-wrap>    ord &lt;- order(xvals)</span>\n",
       "<span style=white-space:pre-wrap>    panel.xyplot(xvals[ord], y.avg[ord], type = \"l\")</span>\n",
       "}</code></pre>"
      ],
      "text/latex": [
       "\\begin{minted}{r}\n",
       "function (x, y) \n",
       "\\{\n",
       "    panel.grid()\n",
       "    panel.xyplot(x, y)\n",
       "    y.avg <- tapply(y, x, mean)\n",
       "    xvals <- as.numeric(names(y.avg))\n",
       "    ord <- order(xvals)\n",
       "    panel.xyplot(xvals{[}ord{]}, y.avg{[}ord{]}, type = \"l\")\n",
       "\\}\n",
       "\\end{minted}"
      ],
      "text/markdown": [
       "```r\n",
       "function (x, y) \n",
       "{\n",
       "    panel.grid()\n",
       "    panel.xyplot(x, y)\n",
       "    y.avg <- tapply(y, x, mean)\n",
       "    xvals <- as.numeric(names(y.avg))\n",
       "    ord <- order(xvals)\n",
       "    panel.xyplot(xvals[ord], y.avg[ord], type = \"l\")\n",
       "}\n",
       "```"
      ],
      "text/plain": [
       "function(x, y) {\n",
       "    panel.grid()\n",
       "    panel.xyplot(x, y)\n",
       "    y.avg <- tapply(y, x, mean) # average y for each distinct x\n",
       "    xvals <- as.numeric(names(y.avg))\n",
       "    ord <- order(xvals)\n",
       "    panel.xyplot(xvals[ord], y.avg[ord], type = \"l\")\n",
       "}"
      ]
     },
     "metadata": {},
     "output_type": "display_data"
    }
   ],
   "source": [
    "function(x, y) {\n",
    "    panel.grid()\n",
    "    panel.xyplot(x, y)\n",
    "    y.avg <- tapply(y, x, mean) # average y for each distinct x\n",
    "    xvals <- as.numeric(names(y.avg))\n",
    "    ord <- order(xvals)\n",
    "    panel.xyplot(xvals[ord], y.avg[ord], type = \"l\")\n",
    "} "
   ]
  },
  {
   "cell_type": "markdown",
   "id": "b5866a3c",
   "metadata": {},
   "source": [
    "#### 多重嵌套数据的绘图"
   ]
  },
  {
   "cell_type": "code",
   "execution_count": 72,
   "id": "f6ed59a6",
   "metadata": {},
   "outputs": [
    {
     "data": {
      "image/png": "[encoded data removed]",
      "text/plain": [
       "plot without title"
      ]
     },
     "metadata": {
      "image/png": {
       "height": 420,
       "width": 420
      }
     },
     "output_type": "display_data"
    }
   ],
   "source": [
    "plot( Pixel, layout = c(4,5),  between = list(x = c(0, 0.5), y = 0.5) )"
   ]
  },
  {
   "cell_type": "code",
   "execution_count": 73,
   "id": "5c778267",
   "metadata": {},
   "outputs": [
    {
     "data": {
      "image/png": "[encoded data removed]",
      "text/plain": [
       "plot without title"
      ]
     },
     "metadata": {
      "image/png": {
       "height": 420,
       "width": 420
      }
     },
     "output_type": "display_data"
    }
   ],
   "source": [
    "plot( Pixel, displayLevel = 1 )"
   ]
  },
  {
   "cell_type": "code",
   "execution_count": 74,
   "id": "a8ac6347",
   "metadata": {},
   "outputs": [
    {
     "data": {
      "image/png": "[encoded data removed]",
      "text/plain": [
       "plot without title"
      ]
     },
     "metadata": {
      "image/png": {
       "height": 420,
       "width": 420
      }
     },
     "output_type": "display_data"
    }
   ],
   "source": [
    "plot( Wafer, display = 1, collapse = 1 ) "
   ]
  },
  {
   "cell_type": "code",
   "execution_count": 75,
   "id": "b705d251",
   "metadata": {},
   "outputs": [
    {
     "data": {
      "image/png": "[encoded data removed]",
      "text/plain": [
       "plot without title"
      ]
     },
     "metadata": {
      "image/png": {
       "height": 420,
       "width": 420
      }
     },
     "output_type": "display_data"
    }
   ],
   "source": [
    "plot( Wafer, display = 1, collapse = 1,  FUN = function(x) sqrt(var(x)), layout = c(10,1) )"
   ]
  },
  {
   "cell_type": "markdown",
   "id": "f79aa42d",
   "metadata": {},
   "source": [
    "### 数据总结"
   ]
  },
  {
   "cell_type": "code",
   "execution_count": 76,
   "id": "04cd9642",
   "metadata": {},
   "outputs": [
    {
     "data": {
      "text/html": [
       "<style>\n",
       ".dl-inline {width: auto; margin:0; padding: 0}\n",
       ".dl-inline>dt, .dl-inline>dd {float: none; width: auto; display: inline-block}\n",
       ".dl-inline>dt::after {content: \":\\0020\"; padding-right: .5ex}\n",
       ".dl-inline>dt:not(:first-of-type) {padding-left: .5ex}\n",
       "</style><dl class=dl-inline><dt>effort</dt><dd>'numeric'</dd><dt>Type</dt><dd>'factor'</dd><dt>Subject</dt><dd>'ordered'</dd></dl>\n"
      ],
      "text/latex": [
       "\\begin{description*}\n",
       "\\item[effort] 'numeric'\n",
       "\\item[Type] 'factor'\n",
       "\\item[Subject] 'ordered'\n",
       "\\end{description*}\n"
      ],
      "text/markdown": [
       "effort\n",
       ":   'numeric'Type\n",
       ":   'factor'Subject\n",
       ":   'ordered'\n",
       "\n"
      ],
      "text/plain": [
       "   effort      Type   Subject \n",
       "\"numeric\"  \"factor\" \"ordered\" "
      ]
     },
     "metadata": {},
     "output_type": "display_data"
    }
   ],
   "source": [
    "sapply( ergoStool, data.class )"
   ]
  },
  {
   "cell_type": "code",
   "execution_count": 77,
   "id": "14cd3584",
   "metadata": {},
   "outputs": [
    {
     "data": {
      "text/html": [
       "<table class=\"dataframe\">\n",
       "<caption>A data.frame: 12 × 3</caption>\n",
       "<thead>\n",
       "\t<tr><th></th><th scope=col>Subject</th><th scope=col>Wt</th><th scope=col>Dose</th></tr>\n",
       "\t<tr><th></th><th scope=col>&lt;ord&gt;</th><th scope=col>&lt;dbl&gt;</th><th scope=col>&lt;dbl&gt;</th></tr>\n",
       "</thead>\n",
       "<tbody>\n",
       "\t<tr><th scope=row>6</th><td>6 </td><td>80.0</td><td>4.00</td></tr>\n",
       "\t<tr><th scope=row>7</th><td>7 </td><td>64.6</td><td>4.95</td></tr>\n",
       "\t<tr><th scope=row>8</th><td>8 </td><td>70.5</td><td>4.53</td></tr>\n",
       "\t<tr><th scope=row>11</th><td>11</td><td>65.0</td><td>4.92</td></tr>\n",
       "\t<tr><th scope=row>3</th><td>3 </td><td>70.5</td><td>4.53</td></tr>\n",
       "\t<tr><th scope=row>2</th><td>2 </td><td>72.4</td><td>4.40</td></tr>\n",
       "\t<tr><th scope=row>4</th><td>4 </td><td>72.7</td><td>4.40</td></tr>\n",
       "\t<tr><th scope=row>9</th><td>9 </td><td>86.4</td><td>3.10</td></tr>\n",
       "\t<tr><th scope=row>12</th><td>12</td><td>60.5</td><td>5.30</td></tr>\n",
       "\t<tr><th scope=row>10</th><td>10</td><td>58.2</td><td>5.50</td></tr>\n",
       "\t<tr><th scope=row>1</th><td>1 </td><td>79.6</td><td>4.02</td></tr>\n",
       "\t<tr><th scope=row>5</th><td>5 </td><td>54.6</td><td>5.86</td></tr>\n",
       "</tbody>\n",
       "</table>\n"
      ],
      "text/latex": [
       "A data.frame: 12 × 3\n",
       "\\begin{tabular}{r|lll}\n",
       "  & Subject & Wt & Dose\\\\\n",
       "  & <ord> & <dbl> & <dbl>\\\\\n",
       "\\hline\n",
       "\t6 & 6  & 80.0 & 4.00\\\\\n",
       "\t7 & 7  & 64.6 & 4.95\\\\\n",
       "\t8 & 8  & 70.5 & 4.53\\\\\n",
       "\t11 & 11 & 65.0 & 4.92\\\\\n",
       "\t3 & 3  & 70.5 & 4.53\\\\\n",
       "\t2 & 2  & 72.4 & 4.40\\\\\n",
       "\t4 & 4  & 72.7 & 4.40\\\\\n",
       "\t9 & 9  & 86.4 & 3.10\\\\\n",
       "\t12 & 12 & 60.5 & 5.30\\\\\n",
       "\t10 & 10 & 58.2 & 5.50\\\\\n",
       "\t1 & 1  & 79.6 & 4.02\\\\\n",
       "\t5 & 5  & 54.6 & 5.86\\\\\n",
       "\\end{tabular}\n"
      ],
      "text/markdown": [
       "\n",
       "A data.frame: 12 × 3\n",
       "\n",
       "| <!--/--> | Subject &lt;ord&gt; | Wt &lt;dbl&gt; | Dose &lt;dbl&gt; |\n",
       "|---|---|---|---|\n",
       "| 6 | 6  | 80.0 | 4.00 |\n",
       "| 7 | 7  | 64.6 | 4.95 |\n",
       "| 8 | 8  | 70.5 | 4.53 |\n",
       "| 11 | 11 | 65.0 | 4.92 |\n",
       "| 3 | 3  | 70.5 | 4.53 |\n",
       "| 2 | 2  | 72.4 | 4.40 |\n",
       "| 4 | 4  | 72.7 | 4.40 |\n",
       "| 9 | 9  | 86.4 | 3.10 |\n",
       "| 12 | 12 | 60.5 | 5.30 |\n",
       "| 10 | 10 | 58.2 | 5.50 |\n",
       "| 1 | 1  | 79.6 | 4.02 |\n",
       "| 5 | 5  | 54.6 | 5.86 |\n",
       "\n"
      ],
      "text/plain": [
       "   Subject Wt   Dose\n",
       "6  6       80.0 4.00\n",
       "7  7       64.6 4.95\n",
       "8  8       70.5 4.53\n",
       "11 11      65.0 4.92\n",
       "3  3       70.5 4.53\n",
       "2  2       72.4 4.40\n",
       "4  4       72.7 4.40\n",
       "9  9       86.4 3.10\n",
       "12 12      60.5 5.30\n",
       "10 10      58.2 5.50\n",
       "1  1       79.6 4.02\n",
       "5  5       54.6 5.86"
      ]
     },
     "metadata": {},
     "output_type": "display_data"
    }
   ],
   "source": [
    "gsummary( Theoph, inv = TRUE )"
   ]
  },
  {
   "cell_type": "code",
   "execution_count": 78,
   "id": "95263256",
   "metadata": {},
   "outputs": [
    {
     "data": {
      "text/html": [
       "<table class=\"dataframe\">\n",
       "<caption>A data.frame: 12 × 2</caption>\n",
       "<thead>\n",
       "\t<tr><th></th><th scope=col>Wt</th><th scope=col>Dose</th></tr>\n",
       "\t<tr><th></th><th scope=col>&lt;dbl&gt;</th><th scope=col>&lt;dbl&gt;</th></tr>\n",
       "</thead>\n",
       "<tbody>\n",
       "\t<tr><th scope=row>6</th><td>80.0</td><td>4.00</td></tr>\n",
       "\t<tr><th scope=row>7</th><td>64.6</td><td>4.95</td></tr>\n",
       "\t<tr><th scope=row>8</th><td>70.5</td><td>4.53</td></tr>\n",
       "\t<tr><th scope=row>11</th><td>65.0</td><td>4.92</td></tr>\n",
       "\t<tr><th scope=row>3</th><td>70.5</td><td>4.53</td></tr>\n",
       "\t<tr><th scope=row>2</th><td>72.4</td><td>4.40</td></tr>\n",
       "\t<tr><th scope=row>4</th><td>72.7</td><td>4.40</td></tr>\n",
       "\t<tr><th scope=row>9</th><td>86.4</td><td>3.10</td></tr>\n",
       "\t<tr><th scope=row>12</th><td>60.5</td><td>5.30</td></tr>\n",
       "\t<tr><th scope=row>10</th><td>58.2</td><td>5.50</td></tr>\n",
       "\t<tr><th scope=row>1</th><td>79.6</td><td>4.02</td></tr>\n",
       "\t<tr><th scope=row>5</th><td>54.6</td><td>5.86</td></tr>\n",
       "</tbody>\n",
       "</table>\n"
      ],
      "text/latex": [
       "A data.frame: 12 × 2\n",
       "\\begin{tabular}{r|ll}\n",
       "  & Wt & Dose\\\\\n",
       "  & <dbl> & <dbl>\\\\\n",
       "\\hline\n",
       "\t6 & 80.0 & 4.00\\\\\n",
       "\t7 & 64.6 & 4.95\\\\\n",
       "\t8 & 70.5 & 4.53\\\\\n",
       "\t11 & 65.0 & 4.92\\\\\n",
       "\t3 & 70.5 & 4.53\\\\\n",
       "\t2 & 72.4 & 4.40\\\\\n",
       "\t4 & 72.7 & 4.40\\\\\n",
       "\t9 & 86.4 & 3.10\\\\\n",
       "\t12 & 60.5 & 5.30\\\\\n",
       "\t10 & 58.2 & 5.50\\\\\n",
       "\t1 & 79.6 & 4.02\\\\\n",
       "\t5 & 54.6 & 5.86\\\\\n",
       "\\end{tabular}\n"
      ],
      "text/markdown": [
       "\n",
       "A data.frame: 12 × 2\n",
       "\n",
       "| <!--/--> | Wt &lt;dbl&gt; | Dose &lt;dbl&gt; |\n",
       "|---|---|---|\n",
       "| 6 | 80.0 | 4.00 |\n",
       "| 7 | 64.6 | 4.95 |\n",
       "| 8 | 70.5 | 4.53 |\n",
       "| 11 | 65.0 | 4.92 |\n",
       "| 3 | 70.5 | 4.53 |\n",
       "| 2 | 72.4 | 4.40 |\n",
       "| 4 | 72.7 | 4.40 |\n",
       "| 9 | 86.4 | 3.10 |\n",
       "| 12 | 60.5 | 5.30 |\n",
       "| 10 | 58.2 | 5.50 |\n",
       "| 1 | 79.6 | 4.02 |\n",
       "| 5 | 54.6 | 5.86 |\n",
       "\n"
      ],
      "text/plain": [
       "   Wt   Dose\n",
       "6  80.0 4.00\n",
       "7  64.6 4.95\n",
       "8  70.5 4.53\n",
       "11 65.0 4.92\n",
       "3  70.5 4.53\n",
       "2  72.4 4.40\n",
       "4  72.7 4.40\n",
       "9  86.4 3.10\n",
       "12 60.5 5.30\n",
       "10 58.2 5.50\n",
       "1  79.6 4.02\n",
       "5  54.6 5.86"
      ]
     },
     "metadata": {},
     "output_type": "display_data"
    }
   ],
   "source": [
    "gsummary( Theoph, omit = TRUE, inv = TRUE )"
   ]
  },
  {
   "cell_type": "code",
   "execution_count": 79,
   "id": "bc67b3b8",
   "metadata": {},
   "outputs": [
    {
     "data": {
      "text/html": [
       "FALSE"
      ],
      "text/latex": [
       "FALSE"
      ],
      "text/markdown": [
       "FALSE"
      ],
      "text/plain": [
       "[1] FALSE"
      ]
     },
     "metadata": {},
     "output_type": "display_data"
    }
   ],
   "source": [
    "is.null(gsummary(Theoph, inv = T, omit = T))"
   ]
  },
  {
   "cell_type": "code",
   "execution_count": 80,
   "id": "22b815cb",
   "metadata": {},
   "outputs": [
    {
     "data": {
      "text/html": [
       "TRUE"
      ],
      "text/latex": [
       "TRUE"
      ],
      "text/markdown": [
       "TRUE"
      ],
      "text/plain": [
       "[1] TRUE"
      ]
     },
     "metadata": {},
     "output_type": "display_data"
    }
   ],
   "source": [
    "is.null(gsummary(Oxboys, inv = T, omit = T))"
   ]
  },
  {
   "cell_type": "code",
   "execution_count": 81,
   "id": "a4aafa4d",
   "metadata": {},
   "outputs": [
    {
     "data": {
      "text/html": [
       "<table class=\"dataframe\">\n",
       "<caption>A data.frame: 12 × 5</caption>\n",
       "<thead>\n",
       "\t<tr><th></th><th scope=col>Subject</th><th scope=col>Wt</th><th scope=col>Dose</th><th scope=col>Time</th><th scope=col>conc</th></tr>\n",
       "\t<tr><th></th><th scope=col>&lt;ord&gt;</th><th scope=col>&lt;dbl&gt;</th><th scope=col>&lt;dbl&gt;</th><th scope=col>&lt;dbl&gt;</th><th scope=col>&lt;dbl&gt;</th></tr>\n",
       "</thead>\n",
       "<tbody>\n",
       "\t<tr><th scope=row>6</th><td>6 </td><td>80.0</td><td>4.00</td><td>5.888182</td><td>3.525455</td></tr>\n",
       "\t<tr><th scope=row>7</th><td>7 </td><td>64.6</td><td>4.95</td><td>5.865455</td><td>3.910909</td></tr>\n",
       "\t<tr><th scope=row>8</th><td>8 </td><td>70.5</td><td>4.53</td><td>5.890000</td><td>4.271818</td></tr>\n",
       "\t<tr><th scope=row>11</th><td>11</td><td>65.0</td><td>4.92</td><td>5.871818</td><td>4.510909</td></tr>\n",
       "\t<tr><th scope=row>3</th><td>3 </td><td>70.5</td><td>4.53</td><td>5.907273</td><td>5.086364</td></tr>\n",
       "\t<tr><th scope=row>2</th><td>2 </td><td>72.4</td><td>4.40</td><td>5.869091</td><td>4.823636</td></tr>\n",
       "\t<tr><th scope=row>4</th><td>4 </td><td>72.7</td><td>4.40</td><td>5.940000</td><td>4.940000</td></tr>\n",
       "\t<tr><th scope=row>9</th><td>9 </td><td>86.4</td><td>3.10</td><td>5.868182</td><td>4.893636</td></tr>\n",
       "\t<tr><th scope=row>12</th><td>12</td><td>60.5</td><td>5.30</td><td>5.876364</td><td>5.410000</td></tr>\n",
       "\t<tr><th scope=row>10</th><td>10</td><td>58.2</td><td>5.50</td><td>5.915455</td><td>5.930909</td></tr>\n",
       "\t<tr><th scope=row>1</th><td>1 </td><td>79.6</td><td>4.02</td><td>5.950000</td><td>6.439091</td></tr>\n",
       "\t<tr><th scope=row>5</th><td>5 </td><td>54.6</td><td>5.86</td><td>5.893636</td><td>5.782727</td></tr>\n",
       "</tbody>\n",
       "</table>\n"
      ],
      "text/latex": [
       "A data.frame: 12 × 5\n",
       "\\begin{tabular}{r|lllll}\n",
       "  & Subject & Wt & Dose & Time & conc\\\\\n",
       "  & <ord> & <dbl> & <dbl> & <dbl> & <dbl>\\\\\n",
       "\\hline\n",
       "\t6 & 6  & 80.0 & 4.00 & 5.888182 & 3.525455\\\\\n",
       "\t7 & 7  & 64.6 & 4.95 & 5.865455 & 3.910909\\\\\n",
       "\t8 & 8  & 70.5 & 4.53 & 5.890000 & 4.271818\\\\\n",
       "\t11 & 11 & 65.0 & 4.92 & 5.871818 & 4.510909\\\\\n",
       "\t3 & 3  & 70.5 & 4.53 & 5.907273 & 5.086364\\\\\n",
       "\t2 & 2  & 72.4 & 4.40 & 5.869091 & 4.823636\\\\\n",
       "\t4 & 4  & 72.7 & 4.40 & 5.940000 & 4.940000\\\\\n",
       "\t9 & 9  & 86.4 & 3.10 & 5.868182 & 4.893636\\\\\n",
       "\t12 & 12 & 60.5 & 5.30 & 5.876364 & 5.410000\\\\\n",
       "\t10 & 10 & 58.2 & 5.50 & 5.915455 & 5.930909\\\\\n",
       "\t1 & 1  & 79.6 & 4.02 & 5.950000 & 6.439091\\\\\n",
       "\t5 & 5  & 54.6 & 5.86 & 5.893636 & 5.782727\\\\\n",
       "\\end{tabular}\n"
      ],
      "text/markdown": [
       "\n",
       "A data.frame: 12 × 5\n",
       "\n",
       "| <!--/--> | Subject &lt;ord&gt; | Wt &lt;dbl&gt; | Dose &lt;dbl&gt; | Time &lt;dbl&gt; | conc &lt;dbl&gt; |\n",
       "|---|---|---|---|---|---|\n",
       "| 6 | 6  | 80.0 | 4.00 | 5.888182 | 3.525455 |\n",
       "| 7 | 7  | 64.6 | 4.95 | 5.865455 | 3.910909 |\n",
       "| 8 | 8  | 70.5 | 4.53 | 5.890000 | 4.271818 |\n",
       "| 11 | 11 | 65.0 | 4.92 | 5.871818 | 4.510909 |\n",
       "| 3 | 3  | 70.5 | 4.53 | 5.907273 | 5.086364 |\n",
       "| 2 | 2  | 72.4 | 4.40 | 5.869091 | 4.823636 |\n",
       "| 4 | 4  | 72.7 | 4.40 | 5.940000 | 4.940000 |\n",
       "| 9 | 9  | 86.4 | 3.10 | 5.868182 | 4.893636 |\n",
       "| 12 | 12 | 60.5 | 5.30 | 5.876364 | 5.410000 |\n",
       "| 10 | 10 | 58.2 | 5.50 | 5.915455 | 5.930909 |\n",
       "| 1 | 1  | 79.6 | 4.02 | 5.950000 | 6.439091 |\n",
       "| 5 | 5  | 54.6 | 5.86 | 5.893636 | 5.782727 |\n",
       "\n"
      ],
      "text/plain": [
       "   Subject Wt   Dose Time     conc    \n",
       "6  6       80.0 4.00 5.888182 3.525455\n",
       "7  7       64.6 4.95 5.865455 3.910909\n",
       "8  8       70.5 4.53 5.890000 4.271818\n",
       "11 11      65.0 4.92 5.871818 4.510909\n",
       "3  3       70.5 4.53 5.907273 5.086364\n",
       "2  2       72.4 4.40 5.869091 4.823636\n",
       "4  4       72.7 4.40 5.940000 4.940000\n",
       "9  9       86.4 3.10 5.868182 4.893636\n",
       "12 12      60.5 5.30 5.876364 5.410000\n",
       "10 10      58.2 5.50 5.915455 5.930909\n",
       "1  1       79.6 4.02 5.950000 6.439091\n",
       "5  5       54.6 5.86 5.893636 5.782727"
      ]
     },
     "metadata": {},
     "output_type": "display_data"
    }
   ],
   "source": [
    "gsummary( Theoph )"
   ]
  },
  {
   "cell_type": "code",
   "execution_count": 82,
   "id": "aefa2abb",
   "metadata": {},
   "outputs": [
    {
     "data": {
      "text/html": [
       "<table class=\"dataframe\">\n",
       "<caption>A data.frame: 12 × 4</caption>\n",
       "<thead>\n",
       "\t<tr><th></th><th scope=col>Wt</th><th scope=col>Dose</th><th scope=col>Time</th><th scope=col>conc</th></tr>\n",
       "\t<tr><th></th><th scope=col>&lt;dbl&gt;</th><th scope=col>&lt;dbl&gt;</th><th scope=col>&lt;dbl&gt;</th><th scope=col>&lt;dbl&gt;</th></tr>\n",
       "</thead>\n",
       "<tbody>\n",
       "\t<tr><th scope=row>6</th><td>80.0</td><td>4.00</td><td>23.85</td><td> 6.44</td></tr>\n",
       "\t<tr><th scope=row>7</th><td>64.6</td><td>4.95</td><td>24.22</td><td> 7.09</td></tr>\n",
       "\t<tr><th scope=row>8</th><td>70.5</td><td>4.53</td><td>24.12</td><td> 7.56</td></tr>\n",
       "\t<tr><th scope=row>11</th><td>65.0</td><td>4.92</td><td>24.08</td><td> 8.00</td></tr>\n",
       "\t<tr><th scope=row>3</th><td>70.5</td><td>4.53</td><td>24.17</td><td> 8.20</td></tr>\n",
       "\t<tr><th scope=row>2</th><td>72.4</td><td>4.40</td><td>24.30</td><td> 8.33</td></tr>\n",
       "\t<tr><th scope=row>4</th><td>72.7</td><td>4.40</td><td>24.65</td><td> 8.60</td></tr>\n",
       "\t<tr><th scope=row>9</th><td>86.4</td><td>3.10</td><td>24.43</td><td> 9.03</td></tr>\n",
       "\t<tr><th scope=row>12</th><td>60.5</td><td>5.30</td><td>24.15</td><td> 9.75</td></tr>\n",
       "\t<tr><th scope=row>10</th><td>58.2</td><td>5.50</td><td>23.70</td><td>10.21</td></tr>\n",
       "\t<tr><th scope=row>1</th><td>79.6</td><td>4.02</td><td>24.37</td><td>10.50</td></tr>\n",
       "\t<tr><th scope=row>5</th><td>54.6</td><td>5.86</td><td>24.35</td><td>11.40</td></tr>\n",
       "</tbody>\n",
       "</table>\n"
      ],
      "text/latex": [
       "A data.frame: 12 × 4\n",
       "\\begin{tabular}{r|llll}\n",
       "  & Wt & Dose & Time & conc\\\\\n",
       "  & <dbl> & <dbl> & <dbl> & <dbl>\\\\\n",
       "\\hline\n",
       "\t6 & 80.0 & 4.00 & 23.85 &  6.44\\\\\n",
       "\t7 & 64.6 & 4.95 & 24.22 &  7.09\\\\\n",
       "\t8 & 70.5 & 4.53 & 24.12 &  7.56\\\\\n",
       "\t11 & 65.0 & 4.92 & 24.08 &  8.00\\\\\n",
       "\t3 & 70.5 & 4.53 & 24.17 &  8.20\\\\\n",
       "\t2 & 72.4 & 4.40 & 24.30 &  8.33\\\\\n",
       "\t4 & 72.7 & 4.40 & 24.65 &  8.60\\\\\n",
       "\t9 & 86.4 & 3.10 & 24.43 &  9.03\\\\\n",
       "\t12 & 60.5 & 5.30 & 24.15 &  9.75\\\\\n",
       "\t10 & 58.2 & 5.50 & 23.70 & 10.21\\\\\n",
       "\t1 & 79.6 & 4.02 & 24.37 & 10.50\\\\\n",
       "\t5 & 54.6 & 5.86 & 24.35 & 11.40\\\\\n",
       "\\end{tabular}\n"
      ],
      "text/markdown": [
       "\n",
       "A data.frame: 12 × 4\n",
       "\n",
       "| <!--/--> | Wt &lt;dbl&gt; | Dose &lt;dbl&gt; | Time &lt;dbl&gt; | conc &lt;dbl&gt; |\n",
       "|---|---|---|---|---|\n",
       "| 6 | 80.0 | 4.00 | 23.85 |  6.44 |\n",
       "| 7 | 64.6 | 4.95 | 24.22 |  7.09 |\n",
       "| 8 | 70.5 | 4.53 | 24.12 |  7.56 |\n",
       "| 11 | 65.0 | 4.92 | 24.08 |  8.00 |\n",
       "| 3 | 70.5 | 4.53 | 24.17 |  8.20 |\n",
       "| 2 | 72.4 | 4.40 | 24.30 |  8.33 |\n",
       "| 4 | 72.7 | 4.40 | 24.65 |  8.60 |\n",
       "| 9 | 86.4 | 3.10 | 24.43 |  9.03 |\n",
       "| 12 | 60.5 | 5.30 | 24.15 |  9.75 |\n",
       "| 10 | 58.2 | 5.50 | 23.70 | 10.21 |\n",
       "| 1 | 79.6 | 4.02 | 24.37 | 10.50 |\n",
       "| 5 | 54.6 | 5.86 | 24.35 | 11.40 |\n",
       "\n"
      ],
      "text/plain": [
       "   Wt   Dose Time  conc \n",
       "6  80.0 4.00 23.85  6.44\n",
       "7  64.6 4.95 24.22  7.09\n",
       "8  70.5 4.53 24.12  7.56\n",
       "11 65.0 4.92 24.08  8.00\n",
       "3  70.5 4.53 24.17  8.20\n",
       "2  72.4 4.40 24.30  8.33\n",
       "4  72.7 4.40 24.65  8.60\n",
       "9  86.4 3.10 24.43  9.03\n",
       "12 60.5 5.30 24.15  9.75\n",
       "10 58.2 5.50 23.70 10.21\n",
       "1  79.6 4.02 24.37 10.50\n",
       "5  54.6 5.86 24.35 11.40"
      ]
     },
     "metadata": {},
     "output_type": "display_data"
    }
   ],
   "source": [
    "gsummary( Theoph, FUN = max, omit = TRUE )"
   ]
  },
  {
   "cell_type": "code",
   "execution_count": 83,
   "id": "85bc0d6c",
   "metadata": {},
   "outputs": [
    {
     "data": {
      "text/html": [
       "<style>\n",
       ".list-inline {list-style: none; margin:0; padding: 0}\n",
       ".list-inline>li {display: inline-block}\n",
       ".list-inline>li:not(:last-child)::after {content: \"\\00b7\"; padding: 0 .5ex}\n",
       "</style>\n",
       "<ol class=list-inline><li>136</li><li>13</li></ol>\n"
      ],
      "text/latex": [
       "\\begin{enumerate*}\n",
       "\\item 136\n",
       "\\item 13\n",
       "\\end{enumerate*}\n"
      ],
      "text/markdown": [
       "1. 136\n",
       "2. 13\n",
       "\n",
       "\n"
      ],
      "text/plain": [
       "[1] 136  13"
      ]
     },
     "metadata": {},
     "output_type": "display_data"
    }
   ],
   "source": [
    "Quin.sum <- gsummary( Quinidine, omit = TRUE, FUN = mean )\n",
    "dim( Quin.sum )"
   ]
  },
  {
   "cell_type": "code",
   "execution_count": 84,
   "id": "bb59ebce",
   "metadata": {},
   "outputs": [
    {
     "data": {
      "text/html": [
       "<table class=\"dataframe\">\n",
       "<caption>A data.frame: 10 × 7</caption>\n",
       "<thead>\n",
       "\t<tr><th></th><th scope=col>time</th><th scope=col>conc</th><th scope=col>dose</th><th scope=col>interval</th><th scope=col>Age</th><th scope=col>Height</th><th scope=col>Weight</th></tr>\n",
       "\t<tr><th></th><th scope=col>&lt;dbl&gt;</th><th scope=col>&lt;dbl&gt;</th><th scope=col>&lt;dbl&gt;</th><th scope=col>&lt;dbl&gt;</th><th scope=col>&lt;dbl&gt;</th><th scope=col>&lt;dbl&gt;</th><th scope=col>&lt;dbl&gt;</th></tr>\n",
       "</thead>\n",
       "<tbody>\n",
       "\t<tr><th scope=row>109</th><td> 30.263333</td><td>0.5000000</td><td>100.000</td><td>NaN</td><td>70</td><td>67</td><td> 58.000</td></tr>\n",
       "\t<tr><th scope=row>70</th><td>  0.750000</td><td>0.6000000</td><td>201.000</td><td>  8</td><td>68</td><td>69</td><td> 75.000</td></tr>\n",
       "\t<tr><th scope=row>23</th><td> 52.026250</td><td>0.5666667</td><td>166.000</td><td>  6</td><td>75</td><td>72</td><td>108.000</td></tr>\n",
       "\t<tr><th scope=row>92</th><td>  8.857143</td><td>0.7000000</td><td> 83.000</td><td>NaN</td><td>68</td><td>72</td><td> 65.000</td></tr>\n",
       "\t<tr><th scope=row>111</th><td> 18.163750</td><td>0.9000000</td><td>249.000</td><td>NaN</td><td>68</td><td>66</td><td> 56.000</td></tr>\n",
       "\t<tr><th scope=row>5</th><td> 24.375000</td><td>0.7000000</td><td>301.000</td><td>NaN</td><td>62</td><td>71</td><td> 66.000</td></tr>\n",
       "\t<tr><th scope=row>18</th><td>196.843750</td><td>0.9333333</td><td>201.000</td><td>  6</td><td>87</td><td>69</td><td> 85.375</td></tr>\n",
       "\t<tr><th scope=row>24</th><td> 31.250000</td><td>1.1000000</td><td>187.875</td><td>NaN</td><td>55</td><td>69</td><td> 89.000</td></tr>\n",
       "\t<tr><th scope=row>2</th><td> 12.200000</td><td>1.2000000</td><td>166.000</td><td>NaN</td><td>58</td><td>69</td><td> 85.000</td></tr>\n",
       "\t<tr><th scope=row>88</th><td>  4.790000</td><td>1.2000000</td><td>201.000</td><td>  8</td><td>85</td><td>72</td><td> 77.000</td></tr>\n",
       "</tbody>\n",
       "</table>\n"
      ],
      "text/latex": [
       "A data.frame: 10 × 7\n",
       "\\begin{tabular}{r|lllllll}\n",
       "  & time & conc & dose & interval & Age & Height & Weight\\\\\n",
       "  & <dbl> & <dbl> & <dbl> & <dbl> & <dbl> & <dbl> & <dbl>\\\\\n",
       "\\hline\n",
       "\t109 &  30.263333 & 0.5000000 & 100.000 & NaN & 70 & 67 &  58.000\\\\\n",
       "\t70 &   0.750000 & 0.6000000 & 201.000 &   8 & 68 & 69 &  75.000\\\\\n",
       "\t23 &  52.026250 & 0.5666667 & 166.000 &   6 & 75 & 72 & 108.000\\\\\n",
       "\t92 &   8.857143 & 0.7000000 &  83.000 & NaN & 68 & 72 &  65.000\\\\\n",
       "\t111 &  18.163750 & 0.9000000 & 249.000 & NaN & 68 & 66 &  56.000\\\\\n",
       "\t5 &  24.375000 & 0.7000000 & 301.000 & NaN & 62 & 71 &  66.000\\\\\n",
       "\t18 & 196.843750 & 0.9333333 & 201.000 &   6 & 87 & 69 &  85.375\\\\\n",
       "\t24 &  31.250000 & 1.1000000 & 187.875 & NaN & 55 & 69 &  89.000\\\\\n",
       "\t2 &  12.200000 & 1.2000000 & 166.000 & NaN & 58 & 69 &  85.000\\\\\n",
       "\t88 &   4.790000 & 1.2000000 & 201.000 &   8 & 85 & 72 &  77.000\\\\\n",
       "\\end{tabular}\n"
      ],
      "text/markdown": [
       "\n",
       "A data.frame: 10 × 7\n",
       "\n",
       "| <!--/--> | time &lt;dbl&gt; | conc &lt;dbl&gt; | dose &lt;dbl&gt; | interval &lt;dbl&gt; | Age &lt;dbl&gt; | Height &lt;dbl&gt; | Weight &lt;dbl&gt; |\n",
       "|---|---|---|---|---|---|---|---|\n",
       "| 109 |  30.263333 | 0.5000000 | 100.000 | NaN | 70 | 67 |  58.000 |\n",
       "| 70 |   0.750000 | 0.6000000 | 201.000 |   8 | 68 | 69 |  75.000 |\n",
       "| 23 |  52.026250 | 0.5666667 | 166.000 |   6 | 75 | 72 | 108.000 |\n",
       "| 92 |   8.857143 | 0.7000000 |  83.000 | NaN | 68 | 72 |  65.000 |\n",
       "| 111 |  18.163750 | 0.9000000 | 249.000 | NaN | 68 | 66 |  56.000 |\n",
       "| 5 |  24.375000 | 0.7000000 | 301.000 | NaN | 62 | 71 |  66.000 |\n",
       "| 18 | 196.843750 | 0.9333333 | 201.000 |   6 | 87 | 69 |  85.375 |\n",
       "| 24 |  31.250000 | 1.1000000 | 187.875 | NaN | 55 | 69 |  89.000 |\n",
       "| 2 |  12.200000 | 1.2000000 | 166.000 | NaN | 58 | 69 |  85.000 |\n",
       "| 88 |   4.790000 | 1.2000000 | 201.000 |   8 | 85 | 72 |  77.000 |\n",
       "\n"
      ],
      "text/plain": [
       "    time       conc      dose    interval Age Height Weight \n",
       "109  30.263333 0.5000000 100.000 NaN      70  67      58.000\n",
       "70    0.750000 0.6000000 201.000   8      68  69      75.000\n",
       "23   52.026250 0.5666667 166.000   6      75  72     108.000\n",
       "92    8.857143 0.7000000  83.000 NaN      68  72      65.000\n",
       "111  18.163750 0.9000000 249.000 NaN      68  66      56.000\n",
       "5    24.375000 0.7000000 301.000 NaN      62  71      66.000\n",
       "18  196.843750 0.9333333 201.000   6      87  69      85.375\n",
       "24   31.250000 1.1000000 187.875 NaN      55  69      89.000\n",
       "2    12.200000 1.2000000 166.000 NaN      58  69      85.000\n",
       "88    4.790000 1.2000000 201.000   8      85  72      77.000"
      ]
     },
     "metadata": {},
     "output_type": "display_data"
    }
   ],
   "source": [
    "Quin.sum1 <- gsummary( Quinidine, omit = TRUE )\n",
    "Quin.sum1[1:10, 1:7]"
   ]
  },
  {
   "cell_type": "code",
   "execution_count": 85,
   "id": "c47dfc63",
   "metadata": {},
   "outputs": [
    {
     "data": {
      "text/plain": [
       "      time               conc            dose          interval     \n",
       " Min.   :   0.065   Min.   :0.500   Min.   : 83.0   Min.   : 5.000  \n",
       " 1st Qu.:  19.285   1st Qu.:1.700   1st Qu.:198.3   1st Qu.: 6.000  \n",
       " Median :  47.169   Median :2.244   Median :201.0   Median : 6.000  \n",
       " Mean   : 251.486   Mean   :2.364   Mean   :223.6   Mean   : 6.988  \n",
       " 3rd Qu.: 171.148   3rd Qu.:2.917   3rd Qu.:249.0   3rd Qu.: 8.000  \n",
       " Max.   :5364.890   Max.   :5.767   Max.   :498.0   Max.   :12.000  \n",
       "                                                    NA's   :29      \n",
       "      Age           Height          Weight              Race    Smoke   \n",
       " Min.   :42.0   Min.   :60.00   Min.   : 41.00   Caucasian:91   no :94  \n",
       " 1st Qu.:61.0   1st Qu.:67.00   1st Qu.: 67.75   Latin    :35   yes:42  \n",
       " Median :66.0   Median :70.00   Median : 79.23   Black    :10           \n",
       " Mean   :66.9   Mean   :69.63   Mean   : 79.19                          \n",
       " 3rd Qu.:73.0   3rd Qu.:72.00   3rd Qu.: 88.25                          \n",
       " Max.   :92.0   Max.   :79.00   Max.   :119.00                          \n",
       "                                                                        \n",
       "    Ethanol        Heart    Creatinine      glyco      \n",
       " none   :90   No/Mild :55   < 50 : 36   Min.   :0.390  \n",
       " current:16   Moderate:40   >= 50:100   1st Qu.:0.885  \n",
       " former :30   Severe  :41               Median :1.174  \n",
       "                                        Mean   :1.212  \n",
       "                                        3rd Qu.:1.453  \n",
       "                                        Max.   :2.995  \n",
       "                                                       "
      ]
     },
     "metadata": {},
     "output_type": "display_data"
    }
   ],
   "source": [
    "summary( Quin.sum1 )"
   ]
  },
  {
   "cell_type": "code",
   "execution_count": 86,
   "id": "a103c710",
   "metadata": {},
   "outputs": [
    {
     "data": {
      "text/plain": [
       "    Subject          time             conc            dose      \n",
       " 223    :  47   Min.   :   0.0   Min.   :0.400   Min.   : 83.0  \n",
       " 110    :  41   1st Qu.:  16.0   1st Qu.:1.600   1st Qu.:166.0  \n",
       " 81     :  40   Median :  60.0   Median :2.300   Median :201.0  \n",
       " 136    :  32   Mean   : 373.3   Mean   :2.454   Mean   :225.3  \n",
       " 7      :  31   3rd Qu.: 241.2   3rd Qu.:3.000   3rd Qu.:249.0  \n",
       " 76     :  28   Max.   :8095.5   Max.   :9.400   Max.   :603.0  \n",
       " (Other):1252                    NA's   :1110    NA's   :443    \n",
       "    interval           Age            Height          Weight      \n",
       " Min.   : 4.000   Min.   :42.00   Min.   :60.00   Min.   : 41.00  \n",
       " 1st Qu.: 6.000   1st Qu.:60.00   1st Qu.:67.00   1st Qu.: 69.50  \n",
       " Median : 6.000   Median :66.00   Median :69.00   Median : 78.00  \n",
       " Mean   : 7.108   Mean   :66.73   Mean   :69.19   Mean   : 79.66  \n",
       " 3rd Qu.: 8.000   3rd Qu.:74.00   3rd Qu.:72.00   3rd Qu.: 89.00  \n",
       " Max.   :12.000   Max.   :92.00   Max.   :79.00   Max.   :119.00  \n",
       " NA's   :1222                                                     \n",
       "        Race     Smoke         Ethanol         Heart     Creatinine  \n",
       " Caucasian:968   no :1024   none   :991   No/Mild :598   < 50 : 418  \n",
       " Latin    :384   yes: 447   current:191   Moderate:375   >= 50:1053  \n",
       " Black    :119              former :289   Severe  :498               \n",
       "                                                                     \n",
       "                                                                     \n",
       "                                                                     \n",
       "                                                                     \n",
       "     glyco      \n",
       " Min.   :0.390  \n",
       " 1st Qu.:0.930  \n",
       " Median :1.230  \n",
       " Mean   :1.282  \n",
       " 3rd Qu.:1.540  \n",
       " Max.   :3.160  \n",
       "                "
      ]
     },
     "metadata": {},
     "output_type": "display_data"
    }
   ],
   "source": [
    "summary( Quinidine )"
   ]
  },
  {
   "cell_type": "code",
   "execution_count": 87,
   "id": "c276c602",
   "metadata": {},
   "outputs": [
    {
     "data": {
      "text/html": [
       "<style>\n",
       ".dl-inline {width: auto; margin:0; padding: 0}\n",
       ".dl-inline>dt, .dl-inline>dd {float: none; width: auto; display: inline-block}\n",
       ".dl-inline>dt::after {content: \":\\0020\"; padding-right: .5ex}\n",
       ".dl-inline>dt:not(:first-of-type) {padding-left: .5ex}\n",
       "</style><dl class=dl-inline><dt>109</dt><dd>1</dd><dt>70</dt><dd>1</dd><dt>23</dt><dd>3</dd><dt>92</dt><dd>1</dd><dt>111</dt><dd>1</dd><dt>5</dt><dd>2</dd><dt>18</dt><dd>3</dd><dt>24</dt><dd>1</dd><dt>2</dt><dd>1</dd><dt>88</dt><dd>1</dd><dt>91</dt><dd>1</dd><dt>117</dt><dd>3</dd><dt>120</dt><dd>2</dd><dt>13</dt><dd>1</dd><dt>89</dt><dd>3</dd><dt>27</dt><dd>1</dd><dt>53</dt><dd>1</dd><dt>122</dt><dd>1</dd><dt>129</dt><dd>2</dd><dt>132</dt><dd>3</dd><dt>16</dt><dd>1</dd><dt>106</dt><dd>1</dd><dt>15</dt><dd>1</dd><dt>22</dt><dd>1</dd><dt>57</dt><dd>3</dd><dt>77</dt><dd>1</dd><dt>115</dt><dd>4</dd><dt>121</dt><dd>1</dd><dt>123</dt><dd>1</dd><dt>11</dt><dd>2</dd><dt>48</dt><dd>2</dd><dt>126</dt><dd>2</dd><dt>223</dt><dd>6</dd><dt>19</dt><dd>1</dd><dt>38</dt><dd>1</dd><dt>42</dt><dd>2</dd><dt>52</dt><dd>1</dd><dt>56</dt><dd>1</dd><dt>63</dt><dd>4</dd><dt>83</dt><dd>1</dd><dt>104</dt><dd>2</dd><dt>118</dt><dd>2</dd><dt>137</dt><dd>1</dd><dt>17</dt><dd>1</dd><dt>29</dt><dd>1</dd><dt>34</dt><dd>1</dd><dt>46</dt><dd>3</dd><dt>73</dt><dd>2</dd><dt>87</dt><dd>2</dd><dt>103</dt><dd>1</dd><dt>138</dt><dd>2</dd><dt>45</dt><dd>3</dd><dt>44</dt><dd>7</dd><dt>97</dt><dd>2</dd><dt>36</dt><dd>2</dd><dt>37</dt><dd>3</dd><dt>72</dt><dd>1</dd><dt>100</dt><dd>3</dd><dt>8</dt><dd>1</dd><dt>71</dt><dd>5</dd><dt>6</dt><dd>1</dd><dt>14</dt><dd>3</dd><dt>26</dt><dd>1</dd><dt>75</dt><dd>3</dd><dt>20</dt><dd>2</dd><dt>96</dt><dd>3</dd><dt>99</dt><dd>2</dd><dt>134</dt><dd>1</dd><dt>12</dt><dd>1</dd><dt>49</dt><dd>3</dd><dt>67</dt><dd>3</dd><dt>85</dt><dd>1</dd><dt>112</dt><dd>3</dd><dt>127</dt><dd>3</dd><dt>55</dt><dd>6</dd><dt>68</dt><dd>3</dd><dt>124</dt><dd>1</dd><dt>1</dt><dd>2</dd><dt>35</dt><dd>2</dd><dt>47</dt><dd>5</dd><dt>79</dt><dd>3</dd><dt>95</dt><dd>3</dd><dt>114</dt><dd>2</dd><dt>135</dt><dd>2</dd><dt>105</dt><dd>1</dd><dt>116</dt><dd>3</dd><dt>62</dt><dd>4</dd><dt>65</dt><dd>7</dd><dt>107</dt><dd>4</dd><dt>130</dt><dd>3</dd><dt>66</dt><dd>1</dd><dt>139</dt><dd>3</dd><dt>33</dt><dd>3</dd><dt>80</dt><dd>2</dd><dt>125</dt><dd>1</dd><dt>110</dt><dd>11</dd><dt>128</dt><dd>2</dd><dt>136</dt><dd>11</dd><dt>21</dt><dd>2</dd><dt>43</dt><dd>1</dd><dt>90</dt><dd>1</dd><dt>102</dt><dd>2</dd><dt>40</dt><dd>2</dd><dt>84</dt><dd>6</dd><dt>98</dt><dd>2</dd><dt>30</dt><dd>1</dd><dt>82</dt><dd>3</dd><dt>93</dt><dd>4</dd><dt>108</dt><dd>1</dd><dt>119</dt><dd>3</dd><dt>32</dt><dd>1</dd><dt>133</dt><dd>2</dd><dt>7</dt><dd>6</dd><dt>9</dt><dd>2</dd><dt>76</dt><dd>6</dd><dt>94</dt><dd>5</dd><dt>58</dt><dd>1</dd><dt>113</dt><dd>2</dd><dt>50</dt><dd>3</dd><dt>39</dt><dd>2</dd><dt>78</dt><dd>10</dd><dt>25</dt><dd>2</dd><dt>61</dt><dd>2</dd><dt>3</dt><dd>3</dd><dt>64</dt><dd>4</dd><dt>60</dt><dd>4</dd><dt>59</dt><dd>3</dd><dt>10</dt><dd>6</dd><dt>69</dt><dd>2</dd><dt>4</dt><dd>6</dd><dt>81</dt><dd>11</dd><dt>54</dt><dd>4</dd><dt>41</dt><dd>3</dd><dt>74</dt><dd>3</dd><dt>28</dt><dd>4</dd><dt>51</dt><dd>6</dd></dl>\n"
      ],
      "text/latex": [
       "\\begin{description*}\n",
       "\\item[109] 1\n",
       "\\item[70] 1\n",
       "\\item[23] 3\n",
       "\\item[92] 1\n",
       "\\item[111] 1\n",
       "\\item[5] 2\n",
       "\\item[18] 3\n",
       "\\item[24] 1\n",
       "\\item[2] 1\n",
       "\\item[88] 1\n",
       "\\item[91] 1\n",
       "\\item[117] 3\n",
       "\\item[120] 2\n",
       "\\item[13] 1\n",
       "\\item[89] 3\n",
       "\\item[27] 1\n",
       "\\item[53] 1\n",
       "\\item[122] 1\n",
       "\\item[129] 2\n",
       "\\item[132] 3\n",
       "\\item[16] 1\n",
       "\\item[106] 1\n",
       "\\item[15] 1\n",
       "\\item[22] 1\n",
       "\\item[57] 3\n",
       "\\item[77] 1\n",
       "\\item[115] 4\n",
       "\\item[121] 1\n",
       "\\item[123] 1\n",
       "\\item[11] 2\n",
       "\\item[48] 2\n",
       "\\item[126] 2\n",
       "\\item[223] 6\n",
       "\\item[19] 1\n",
       "\\item[38] 1\n",
       "\\item[42] 2\n",
       "\\item[52] 1\n",
       "\\item[56] 1\n",
       "\\item[63] 4\n",
       "\\item[83] 1\n",
       "\\item[104] 2\n",
       "\\item[118] 2\n",
       "\\item[137] 1\n",
       "\\item[17] 1\n",
       "\\item[29] 1\n",
       "\\item[34] 1\n",
       "\\item[46] 3\n",
       "\\item[73] 2\n",
       "\\item[87] 2\n",
       "\\item[103] 1\n",
       "\\item[138] 2\n",
       "\\item[45] 3\n",
       "\\item[44] 7\n",
       "\\item[97] 2\n",
       "\\item[36] 2\n",
       "\\item[37] 3\n",
       "\\item[72] 1\n",
       "\\item[100] 3\n",
       "\\item[8] 1\n",
       "\\item[71] 5\n",
       "\\item[6] 1\n",
       "\\item[14] 3\n",
       "\\item[26] 1\n",
       "\\item[75] 3\n",
       "\\item[20] 2\n",
       "\\item[96] 3\n",
       "\\item[99] 2\n",
       "\\item[134] 1\n",
       "\\item[12] 1\n",
       "\\item[49] 3\n",
       "\\item[67] 3\n",
       "\\item[85] 1\n",
       "\\item[112] 3\n",
       "\\item[127] 3\n",
       "\\item[55] 6\n",
       "\\item[68] 3\n",
       "\\item[124] 1\n",
       "\\item[1] 2\n",
       "\\item[35] 2\n",
       "\\item[47] 5\n",
       "\\item[79] 3\n",
       "\\item[95] 3\n",
       "\\item[114] 2\n",
       "\\item[135] 2\n",
       "\\item[105] 1\n",
       "\\item[116] 3\n",
       "\\item[62] 4\n",
       "\\item[65] 7\n",
       "\\item[107] 4\n",
       "\\item[130] 3\n",
       "\\item[66] 1\n",
       "\\item[139] 3\n",
       "\\item[33] 3\n",
       "\\item[80] 2\n",
       "\\item[125] 1\n",
       "\\item[110] 11\n",
       "\\item[128] 2\n",
       "\\item[136] 11\n",
       "\\item[21] 2\n",
       "\\item[43] 1\n",
       "\\item[90] 1\n",
       "\\item[102] 2\n",
       "\\item[40] 2\n",
       "\\item[84] 6\n",
       "\\item[98] 2\n",
       "\\item[30] 1\n",
       "\\item[82] 3\n",
       "\\item[93] 4\n",
       "\\item[108] 1\n",
       "\\item[119] 3\n",
       "\\item[32] 1\n",
       "\\item[133] 2\n",
       "\\item[7] 6\n",
       "\\item[9] 2\n",
       "\\item[76] 6\n",
       "\\item[94] 5\n",
       "\\item[58] 1\n",
       "\\item[113] 2\n",
       "\\item[50] 3\n",
       "\\item[39] 2\n",
       "\\item[78] 10\n",
       "\\item[25] 2\n",
       "\\item[61] 2\n",
       "\\item[3] 3\n",
       "\\item[64] 4\n",
       "\\item[60] 4\n",
       "\\item[59] 3\n",
       "\\item[10] 6\n",
       "\\item[69] 2\n",
       "\\item[4] 6\n",
       "\\item[81] 11\n",
       "\\item[54] 4\n",
       "\\item[41] 3\n",
       "\\item[74] 3\n",
       "\\item[28] 4\n",
       "\\item[51] 6\n",
       "\\end{description*}\n"
      ],
      "text/markdown": [
       "109\n",
       ":   170\n",
       ":   123\n",
       ":   392\n",
       ":   1111\n",
       ":   15\n",
       ":   218\n",
       ":   324\n",
       ":   12\n",
       ":   188\n",
       ":   191\n",
       ":   1117\n",
       ":   3120\n",
       ":   213\n",
       ":   189\n",
       ":   327\n",
       ":   153\n",
       ":   1122\n",
       ":   1129\n",
       ":   2132\n",
       ":   316\n",
       ":   1106\n",
       ":   115\n",
       ":   122\n",
       ":   157\n",
       ":   377\n",
       ":   1115\n",
       ":   4121\n",
       ":   1123\n",
       ":   111\n",
       ":   248\n",
       ":   2126\n",
       ":   2223\n",
       ":   619\n",
       ":   138\n",
       ":   142\n",
       ":   252\n",
       ":   156\n",
       ":   163\n",
       ":   483\n",
       ":   1104\n",
       ":   2118\n",
       ":   2137\n",
       ":   117\n",
       ":   129\n",
       ":   134\n",
       ":   146\n",
       ":   373\n",
       ":   287\n",
       ":   2103\n",
       ":   1138\n",
       ":   245\n",
       ":   344\n",
       ":   797\n",
       ":   236\n",
       ":   237\n",
       ":   372\n",
       ":   1100\n",
       ":   38\n",
       ":   171\n",
       ":   56\n",
       ":   114\n",
       ":   326\n",
       ":   175\n",
       ":   320\n",
       ":   296\n",
       ":   399\n",
       ":   2134\n",
       ":   112\n",
       ":   149\n",
       ":   367\n",
       ":   385\n",
       ":   1112\n",
       ":   3127\n",
       ":   355\n",
       ":   668\n",
       ":   3124\n",
       ":   11\n",
       ":   235\n",
       ":   247\n",
       ":   579\n",
       ":   395\n",
       ":   3114\n",
       ":   2135\n",
       ":   2105\n",
       ":   1116\n",
       ":   362\n",
       ":   465\n",
       ":   7107\n",
       ":   4130\n",
       ":   366\n",
       ":   1139\n",
       ":   333\n",
       ":   380\n",
       ":   2125\n",
       ":   1110\n",
       ":   11128\n",
       ":   2136\n",
       ":   1121\n",
       ":   243\n",
       ":   190\n",
       ":   1102\n",
       ":   240\n",
       ":   284\n",
       ":   698\n",
       ":   230\n",
       ":   182\n",
       ":   393\n",
       ":   4108\n",
       ":   1119\n",
       ":   332\n",
       ":   1133\n",
       ":   27\n",
       ":   69\n",
       ":   276\n",
       ":   694\n",
       ":   558\n",
       ":   1113\n",
       ":   250\n",
       ":   339\n",
       ":   278\n",
       ":   1025\n",
       ":   261\n",
       ":   23\n",
       ":   364\n",
       ":   460\n",
       ":   459\n",
       ":   310\n",
       ":   669\n",
       ":   24\n",
       ":   681\n",
       ":   1154\n",
       ":   441\n",
       ":   374\n",
       ":   328\n",
       ":   451\n",
       ":   6\n",
       "\n"
      ],
      "text/plain": [
       "109  70  23  92 111   5  18  24   2  88  91 117 120  13  89  27  53 122 129 132 \n",
       "  1   1   3   1   1   2   3   1   1   1   1   3   2   1   3   1   1   1   2   3 \n",
       " 16 106  15  22  57  77 115 121 123  11  48 126 223  19  38  42  52  56  63  83 \n",
       "  1   1   1   1   3   1   4   1   1   2   2   2   6   1   1   2   1   1   4   1 \n",
       "104 118 137  17  29  34  46  73  87 103 138  45  44  97  36  37  72 100   8  71 \n",
       "  2   2   1   1   1   1   3   2   2   1   2   3   7   2   2   3   1   3   1   5 \n",
       "  6  14  26  75  20  96  99 134  12  49  67  85 112 127  55  68 124   1  35  47 \n",
       "  1   3   1   3   2   3   2   1   1   3   3   1   3   3   6   3   1   2   2   5 \n",
       " 79  95 114 135 105 116  62  65 107 130  66 139  33  80 125 110 128 136  21  43 \n",
       "  3   3   2   2   1   3   4   7   4   3   1   3   3   2   1  11   2  11   2   1 \n",
       " 90 102  40  84  98  30  82  93 108 119  32 133   7   9  76  94  58 113  50  39 \n",
       "  1   2   2   6   2   1   3   4   1   3   1   2   6   2   6   5   1   2   3   2 \n",
       " 78  25  61   3  64  60  59  10  69   4  81  54  41  74  28  51 \n",
       " 10   2   2   3   4   4   3   6   2   6  11   4   3   3   4   6 "
      ]
     },
     "metadata": {},
     "output_type": "display_data"
    }
   ],
   "source": [
    "gapply( Quinidine, \"conc\", function(x) sum(!is.na(x)) )"
   ]
  },
  {
   "cell_type": "code",
   "execution_count": null,
   "id": "e46dcd48",
   "metadata": {},
   "outputs": [],
   "source": []
  }
 ],
 "metadata": {
  "kernelspec": {
   "display_name": "R",
   "language": "R",
   "name": "ir"
  },
  "language_info": {
   "codemirror_mode": "r",
   "file_extension": ".r",
   "mimetype": "text/x-r-source",
   "name": "R",
   "pygments_lexer": "r",
   "version": "4.3.2"
  }
 },
 "nbformat": 4,
 "nbformat_minor": 5
}
